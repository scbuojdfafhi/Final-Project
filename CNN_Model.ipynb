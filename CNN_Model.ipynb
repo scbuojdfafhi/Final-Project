{
  "nbformat": 4,
  "nbformat_minor": 0,
  "metadata": {
    "colab": {
      "name": "Untitled0.ipynb",
      "provenance": []
    },
    "kernelspec": {
      "name": "python3",
      "display_name": "Python 3"
    },
    "language_info": {
      "name": "python"
    }
  },
  "cells": [
    {
      "cell_type": "code",
      "execution_count": null,
      "metadata": {
        "id": "WUfp6zJhAK1X"
      },
      "outputs": [],
      "source": [
        "import matplotlib.pyplot as plt\n",
        "import numpy as np\n",
        "import pandas as pd\n",
        "import os\n",
        "import tensorflow as tf\n",
        "from google.colab import drive\n",
        "drive.mount('/content/drive',force_remount=True)\n",
        "\n",
        "data_train = pd.read_csv('/content/drive/MyDrive/ML/imageset/ECG_train.csv')\n",
        "data_test = pd.read_csv('/content/drive/MyDrive/ML/imageset/ECG_test.csv')"
      ]
    },
    {
      "cell_type": "markdown",
      "source": [
        "Read dataset"
      ],
      "metadata": {
        "id": "sVvvUsKPAYNg"
      }
    },
    {
      "cell_type": "code",
      "source": [
        "import matplotlib.pyplot as plt\n",
        "import numpy as np\n",
        "import pandas as pd\n",
        "import os\n",
        "import tensorflow as tf\n",
        "from google.colab import drive\n",
        "drive.mount('/content/drive',force_remount=True)\n",
        "\n",
        "data_train = pd.read_csv('/content/drive/MyDrive/ML/imageset/ECG_train.csv')\n",
        "data_test = pd.read_csv('/content/drive/MyDrive/ML/imageset/ECG_test.csv')"
      ],
      "metadata": {
        "id": "405UNyUVAd9g"
      },
      "execution_count": null,
      "outputs": []
    },
    {
      "cell_type": "markdown",
      "source": [
        "Data preprocessing"
      ],
      "metadata": {
        "id": "FY7appRfAgjQ"
      }
    },
    {
      "cell_type": "code",
      "source": [
        "data_train.dropna(axis=1,inplace=True)\n",
        "data_test.dropna(axis=1,inplace=True)\n",
        "y_train = data_train.values[:,0]\n",
        "X_train = data_train.values[:,1:5423]\n",
        "y_test = data_test.values[:,0]\n",
        "X_test = data_test.values[:,1:5423]\n",
        "X_test"
      ],
      "metadata": {
        "id": "tYVeMZjeANpx"
      },
      "execution_count": null,
      "outputs": []
    },
    {
      "cell_type": "markdown",
      "source": [
        "Shuffle training set and testing set"
      ],
      "metadata": {
        "id": "Mp2d2yt_Awca"
      }
    },
    {
      "cell_type": "code",
      "source": [
        "from sklearn.model_selection import train_test_split\n",
        "#X_train,X_test,y_train,y_test=train_test_split(X_std,y,test_size=0.3)\n",
        "np.random.seed(200)\n",
        "np.random.shuffle(X_train) \n",
        "np.random.seed(200)\n",
        "np.random.shuffle(y_train)\n",
        " \n",
        "np.random.seed(200)\n",
        "np.random.shuffle(X_test) \n",
        "np.random.seed(200)\n",
        "np.random.shuffle(y_test)\n",
        "y_test"
      ],
      "metadata": {
        "id": "e7lrTejuA5SE"
      },
      "execution_count": null,
      "outputs": []
    },
    {
      "cell_type": "code",
      "source": [
        "# 构建CNN模型\n",
        "def buildModel():\n",
        "    newModel = tf.keras.models.Sequential([\n",
        "        tf.keras.layers.InputLayer(input_shape=(5422, 1)),\n",
        "        # 第一个卷积层, 4 个 21x1 卷积核\n",
        "        tf.keras.layers.Conv1D(filters=32, kernel_size=16, strides=1, padding='SAME', activation='relu'),\n",
        "        # 第一个池化层, 最大池化,4 个 3x1 卷积核, 步长为 2\n",
        "        tf.keras.layers.MaxPool1D(pool_size=200, strides=3, padding='SAME'),\n",
        "\n",
        "        #tf.keras.layers.Dropout(0.2),\n",
        "\n",
        "        # 第二个卷积层, 16 个 23x1 卷积核\n",
        "        tf.keras.layers.Conv1D(filters=64, kernel_size=32, strides=1, padding='SAME', activation='relu'),\n",
        "        # 第二个池化层, 最大池化,4 个 3x1 卷积核, 步长为 2\n",
        "        tf.keras.layers.MaxPool1D(pool_size=200, strides=3, padding='SAME'),\n",
        "\n",
        "        #tf.keras.layers.Dropout(0.2),\n",
        "\n",
        "        # 打平层,方便全连接层处理\n",
        "        tf.keras.layers.Flatten(),\n",
        "        # 全连接层,128 个节点\n",
        "        tf.keras.layers.Dense(128, activation='relu'),\n",
        "        # Dropout层,dropout = 0.2\n",
        "        tf.keras.layers.Dropout(rate=0.2),\n",
        "        # 全连接层,2 个节点\n",
        "        tf.keras.layers.Dense(1, activation='sigmoid')\n",
        "        \n",
        "    ])\n",
        "\n",
        "    return newModel"
      ],
      "metadata": {
        "id": "bqLQ5fV7APdi"
      },
      "execution_count": null,
      "outputs": []
    },
    {
      "cell_type": "markdown",
      "source": [
        "Show details of CNN model"
      ],
      "metadata": {
        "id": "QcplpvmFAvHZ"
      }
    },
    {
      "cell_type": "code",
      "source": [
        "model = buildModel()\n",
        "model.summary()"
      ],
      "metadata": {
        "id": "KLFVDaR-APiY"
      },
      "execution_count": null,
      "outputs": []
    },
    {
      "cell_type": "markdown",
      "source": [
        "Set learning rate"
      ],
      "metadata": {
        "id": "iy72Ar0nBH1j"
      }
    },
    {
      "cell_type": "code",
      "source": [
        "from tensorflow.keras.callbacks import LearningRateScheduler\n",
        "import tensorflow.keras.backend as K\n",
        "def scheduler(epoch):\n",
        "  \n",
        "    lr = 0.0001\n",
        "    K.set_value(model.optimizer.lr, lr )\n",
        "    print(\"lr changed to {}\".format(lr ))\n",
        "    return K.get_value(model.optimizer.lr)\n",
        "\n",
        "reduce_lr = LearningRateScheduler(scheduler)"
      ],
      "metadata": {
        "id": "7hvPJz59BKBI"
      },
      "execution_count": null,
      "outputs": []
    },
    {
      "cell_type": "markdown",
      "source": [
        "Train model and plot curve of loss and accuracy"
      ],
      "metadata": {
        "id": "jcQ2lWdIBUPA"
      }
    },
    {
      "cell_type": "code",
      "source": [
        "import matplotlib.pyplot as plt\n",
        "from sklearn.model_selection import KFold\n",
        "from sklearn.model_selection import cross_val_score\n",
        "import keras\n",
        "\n",
        "\n",
        "X_train = X_train.reshape((X_train.shape[0], X_train.shape[1], 1))\n",
        "print(X_train.shape, y.shape)\n",
        "#reduce_lr = LearningRateScheduler(scheduler)\n",
        "model = buildModel()\n",
        "model.summary()\n",
        "\n",
        "model.compile(optimizer='adam',\n",
        "                      loss='binary_crossentropy',\n",
        "                      metrics=['accuracy'])\n",
        "#kfold = KFold(n_splits=10,shuffle=True,random_state=0)\n",
        "hist = model.fit(X_train, y_train, epochs=100,\n",
        "                  batch_size=72,\n",
        "                  #validation_split=0.3,\n",
        "                  shuffle=True,\n",
        "                  callbacks=[reduce_lr]\n",
        "                  )\n",
        "\n",
        "#hist = model.fit(X_train, y1, batch_size=64, validation_split = 0.3, epochs=30, shuffle=True, verbose=1)\n",
        "\n",
        "plt.plot(hist.history['loss'], label='loss')\n",
        "plt.plot(hist.history['accuracy'], label='acc')\n",
        "#plt.plot(hist.history['val_accuracy'], label='val_acc')\n",
        "plt.legend()\n",
        "plt.show()"
      ],
      "metadata": {
        "id": "LRX7Y8JrBWDC"
      },
      "execution_count": null,
      "outputs": []
    },
    {
      "cell_type": "markdown",
      "source": [
        "Evaluate model in testing set"
      ],
      "metadata": {
        "id": "BX5q_6v4BjLj"
      }
    },
    {
      "cell_type": "code",
      "source": [
        "model.evaluate(X_test, y_test, batch_size=32, verbose=1)"
      ],
      "metadata": {
        "id": "StVS9kvuBmaK"
      },
      "execution_count": null,
      "outputs": []
    },
    {
      "cell_type": "markdown",
      "source": [
        "Predict testing set (1 : positive , 0 : negative)"
      ],
      "metadata": {
        "id": "IIvtwOzxBrkg"
      }
    },
    {
      "cell_type": "code",
      "source": [
        "Y_pred = model.predict(X_test)\n",
        "Y_pred = np.int64(Y_pred>0.5)\n",
        "Y_pred"
      ],
      "metadata": {
        "id": "Svjfm_-NBymo"
      },
      "execution_count": null,
      "outputs": []
    }
  ]
}