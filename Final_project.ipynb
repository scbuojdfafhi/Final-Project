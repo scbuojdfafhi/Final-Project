{
 "cells": [
  {
   "cell_type": "markdown",
   "metadata": {},
   "source": [
    "### Read dataset"
   ]
  },
  {
   "cell_type": "code",
   "execution_count": 1,
   "metadata": {},
   "outputs": [
    {
     "data": {
      "text/html": [
       "<div>\n",
       "<style scoped>\n",
       "    .dataframe tbody tr th:only-of-type {\n",
       "        vertical-align: middle;\n",
       "    }\n",
       "\n",
       "    .dataframe tbody tr th {\n",
       "        vertical-align: top;\n",
       "    }\n",
       "\n",
       "    .dataframe thead th {\n",
       "        text-align: right;\n",
       "    }\n",
       "</style>\n",
       "<table border=\"1\" class=\"dataframe\">\n",
       "  <thead>\n",
       "    <tr style=\"text-align: right;\">\n",
       "      <th></th>\n",
       "      <th>sound_ID</th>\n",
       "      <th>emotion</th>\n",
       "      <th>intensity</th>\n",
       "      <th>Ave</th>\n",
       "      <th>Max</th>\n",
       "      <th>Min</th>\n",
       "      <th>range</th>\n",
       "      <th>Std</th>\n",
       "      <th>Grow_rate</th>\n",
       "      <th>temp</th>\n",
       "    </tr>\n",
       "  </thead>\n",
       "  <tbody>\n",
       "    <tr>\n",
       "      <th>0</th>\n",
       "      <td>0153_2</td>\n",
       "      <td>Fear</td>\n",
       "      <td>3</td>\n",
       "      <td>59.000000</td>\n",
       "      <td>60</td>\n",
       "      <td>58</td>\n",
       "      <td>2.000000</td>\n",
       "      <td>1.000000</td>\n",
       "      <td>0.034483</td>\n",
       "      <td>-0.641150</td>\n",
       "    </tr>\n",
       "    <tr>\n",
       "      <th>1</th>\n",
       "      <td>0221_2</td>\n",
       "      <td>Fear</td>\n",
       "      <td>4</td>\n",
       "      <td>59.500000</td>\n",
       "      <td>60</td>\n",
       "      <td>59</td>\n",
       "      <td>1.000000</td>\n",
       "      <td>0.707107</td>\n",
       "      <td>0.016949</td>\n",
       "      <td>-0.641150</td>\n",
       "    </tr>\n",
       "    <tr>\n",
       "      <th>2</th>\n",
       "      <td>0226_2</td>\n",
       "      <td>Sadness</td>\n",
       "      <td>4</td>\n",
       "      <td>60.333333</td>\n",
       "      <td>62</td>\n",
       "      <td>59</td>\n",
       "      <td>3.000000</td>\n",
       "      <td>1.527525</td>\n",
       "      <td>0.050847</td>\n",
       "      <td>-0.651150</td>\n",
       "    </tr>\n",
       "    <tr>\n",
       "      <th>3</th>\n",
       "      <td>0234_2</td>\n",
       "      <td>Sadness</td>\n",
       "      <td>3</td>\n",
       "      <td>63.000000</td>\n",
       "      <td>63</td>\n",
       "      <td>63</td>\n",
       "      <td>0.000000</td>\n",
       "      <td>0.000000</td>\n",
       "      <td>0.000000</td>\n",
       "      <td>-0.651150</td>\n",
       "    </tr>\n",
       "    <tr>\n",
       "      <th>4</th>\n",
       "      <td>0235_2</td>\n",
       "      <td>Sadness</td>\n",
       "      <td>2</td>\n",
       "      <td>61.000000</td>\n",
       "      <td>62</td>\n",
       "      <td>60</td>\n",
       "      <td>2.000000</td>\n",
       "      <td>1.000000</td>\n",
       "      <td>0.033333</td>\n",
       "      <td>-0.651150</td>\n",
       "    </tr>\n",
       "    <tr>\n",
       "      <th>...</th>\n",
       "      <td>...</td>\n",
       "      <td>...</td>\n",
       "      <td>...</td>\n",
       "      <td>...</td>\n",
       "      <td>...</td>\n",
       "      <td>...</td>\n",
       "      <td>...</td>\n",
       "      <td>...</td>\n",
       "      <td>...</td>\n",
       "      <td>...</td>\n",
       "    </tr>\n",
       "    <tr>\n",
       "      <th>433</th>\n",
       "      <td>0811_2</td>\n",
       "      <td>Fear</td>\n",
       "      <td>4</td>\n",
       "      <td>97.500000</td>\n",
       "      <td>98</td>\n",
       "      <td>97</td>\n",
       "      <td>0.707107</td>\n",
       "      <td>1.000000</td>\n",
       "      <td>0.010309</td>\n",
       "      <td>1.464936</td>\n",
       "    </tr>\n",
       "    <tr>\n",
       "      <th>434</th>\n",
       "      <td>0886_2</td>\n",
       "      <td>Happiness</td>\n",
       "      <td>7</td>\n",
       "      <td>83.000000</td>\n",
       "      <td>86</td>\n",
       "      <td>80</td>\n",
       "      <td>4.242641</td>\n",
       "      <td>6.000000</td>\n",
       "      <td>0.075000</td>\n",
       "      <td>1.464936</td>\n",
       "    </tr>\n",
       "    <tr>\n",
       "      <th>435</th>\n",
       "      <td>0890_2</td>\n",
       "      <td>Fear</td>\n",
       "      <td>3</td>\n",
       "      <td>78.500000</td>\n",
       "      <td>80</td>\n",
       "      <td>77</td>\n",
       "      <td>2.121320</td>\n",
       "      <td>3.000000</td>\n",
       "      <td>0.038961</td>\n",
       "      <td>1.464936</td>\n",
       "    </tr>\n",
       "    <tr>\n",
       "      <th>436</th>\n",
       "      <td>1027_2</td>\n",
       "      <td>Happiness</td>\n",
       "      <td>3</td>\n",
       "      <td>75.000000</td>\n",
       "      <td>76</td>\n",
       "      <td>74</td>\n",
       "      <td>1.414214</td>\n",
       "      <td>2.000000</td>\n",
       "      <td>0.027027</td>\n",
       "      <td>1.489936</td>\n",
       "    </tr>\n",
       "    <tr>\n",
       "      <th>437</th>\n",
       "      <td>1385_2</td>\n",
       "      <td>Fear</td>\n",
       "      <td>7</td>\n",
       "      <td>80.500000</td>\n",
       "      <td>84</td>\n",
       "      <td>77</td>\n",
       "      <td>4.949747</td>\n",
       "      <td>7.000000</td>\n",
       "      <td>0.090909</td>\n",
       "      <td>1.499936</td>\n",
       "    </tr>\n",
       "  </tbody>\n",
       "</table>\n",
       "<p>438 rows × 10 columns</p>\n",
       "</div>"
      ],
      "text/plain": [
       "    sound_ID    emotion  intensity        Ave  Max  Min     range       Std  \\\n",
       "0     0153_2       Fear          3  59.000000   60   58  2.000000  1.000000   \n",
       "1     0221_2       Fear          4  59.500000   60   59  1.000000  0.707107   \n",
       "2     0226_2    Sadness          4  60.333333   62   59  3.000000  1.527525   \n",
       "3     0234_2    Sadness          3  63.000000   63   63  0.000000  0.000000   \n",
       "4     0235_2    Sadness          2  61.000000   62   60  2.000000  1.000000   \n",
       "..       ...        ...        ...        ...  ...  ...       ...       ...   \n",
       "433   0811_2       Fear          4  97.500000   98   97  0.707107  1.000000   \n",
       "434   0886_2  Happiness          7  83.000000   86   80  4.242641  6.000000   \n",
       "435   0890_2       Fear          3  78.500000   80   77  2.121320  3.000000   \n",
       "436   1027_2  Happiness          3  75.000000   76   74  1.414214  2.000000   \n",
       "437   1385_2       Fear          7  80.500000   84   77  4.949747  7.000000   \n",
       "\n",
       "     Grow_rate      temp  \n",
       "0     0.034483 -0.641150  \n",
       "1     0.016949 -0.641150  \n",
       "2     0.050847 -0.651150  \n",
       "3     0.000000 -0.651150  \n",
       "4     0.033333 -0.651150  \n",
       "..         ...       ...  \n",
       "433   0.010309  1.464936  \n",
       "434   0.075000  1.464936  \n",
       "435   0.038961  1.464936  \n",
       "436   0.027027  1.489936  \n",
       "437   0.090909  1.499936  \n",
       "\n",
       "[438 rows x 10 columns]"
      ]
     },
     "execution_count": 1,
     "metadata": {},
     "output_type": "execute_result"
    }
   ],
   "source": [
    "import pandas as pd\n",
    "import numpy as np\n",
    "from collections import Counter\n",
    "data= pd.read_csv(r'D:\\Final Project\\Zihan\\data_final.csv')\n",
    "#data['label']=np.nan\n",
    "#data.loc[(data['intensity']>=2) & (data['emotion']=='Fear'), 'label'] = 1\n",
    "#data.loc[(data['intensity']>=0) & (data['emotion']=='Sadness'), 'label'] = 2\n",
    "#data.loc[(data['intensity']>=0) & (data['emotion']=='Happiness'), 'label'] = 3\n",
    "data.fillna(0,inplace = True)\n",
    "#data[(data['intensity']>=5) & (data['emotion']==1)].shape\n",
    "#data.to_csv('D:\\Final Project\\Zihan\\data_3.csv')\n",
    "data"
   ]
  },
  {
   "cell_type": "markdown",
   "metadata": {},
   "source": [
    "### T-test"
   ]
  },
  {
   "cell_type": "code",
   "execution_count": null,
   "metadata": {},
   "outputs": [],
   "source": [
    "# Average HR Grouped by 3 emotions, and intensity of emotion can be chosen manually.\n",
    "data_happy = data.loc[(data['emotion']=='Happiness')& (data['intensity']>=1)]['Ave']\n",
    "data_sad = data.loc[(data['emotion']=='Sadness')& (data['intensity']>=1)]['Ave']\n",
    "data_fear = data.loc[(data['emotion']=='Fear')& (data['intensity']>=1)]['Ave']"
   ]
  },
  {
   "cell_type": "code",
   "execution_count": null,
   "metadata": {},
   "outputs": [],
   "source": [
    "from scipy import stats\n",
    "import numpy as np\n",
    "import scipy.stats\n",
    "\n",
    "request_a = np.array(data_happy)\n",
    "request_b = np.array(data_sad)\n",
    "request_c = np.array(data_fear)\n",
    "\n",
    "# conduct T-test between average HR in different emotion groups with different intensity\n",
    "t, pval = scipy.stats.ttest_ind(request_a, request_c)\n",
    "#t, pval = scipy.stats.ttest_ind(request_a, request_b)\n",
    "#t, pval = scipy.stats.ttest_ind(request_b, request_c)\n",
    "print(t,pval)"
   ]
  },
  {
   "cell_type": "markdown",
   "metadata": {},
   "source": [
    "### SMOTE algorithm over sample"
   ]
  },
  {
   "cell_type": "code",
   "execution_count": 2,
   "metadata": {},
   "outputs": [
    {
     "data": {
      "text/html": [
       "<div>\n",
       "<style scoped>\n",
       "    .dataframe tbody tr th:only-of-type {\n",
       "        vertical-align: middle;\n",
       "    }\n",
       "\n",
       "    .dataframe tbody tr th {\n",
       "        vertical-align: top;\n",
       "    }\n",
       "\n",
       "    .dataframe thead th {\n",
       "        text-align: right;\n",
       "    }\n",
       "</style>\n",
       "<table border=\"1\" class=\"dataframe\">\n",
       "  <thead>\n",
       "    <tr style=\"text-align: right;\">\n",
       "      <th></th>\n",
       "      <th>Ave</th>\n",
       "      <th>Max</th>\n",
       "      <th>Min</th>\n",
       "      <th>range</th>\n",
       "      <th>Std</th>\n",
       "      <th>Grow_rate</th>\n",
       "      <th>temp</th>\n",
       "      <th>label</th>\n",
       "    </tr>\n",
       "  </thead>\n",
       "  <tbody>\n",
       "    <tr>\n",
       "      <th>0</th>\n",
       "      <td>59.000000</td>\n",
       "      <td>60.0</td>\n",
       "      <td>58.0</td>\n",
       "      <td>2.000000</td>\n",
       "      <td>1.000000</td>\n",
       "      <td>0.034483</td>\n",
       "      <td>-0.641150</td>\n",
       "      <td>1.0</td>\n",
       "    </tr>\n",
       "    <tr>\n",
       "      <th>1</th>\n",
       "      <td>59.500000</td>\n",
       "      <td>60.0</td>\n",
       "      <td>59.0</td>\n",
       "      <td>1.000000</td>\n",
       "      <td>0.707107</td>\n",
       "      <td>0.016949</td>\n",
       "      <td>-0.641150</td>\n",
       "      <td>1.0</td>\n",
       "    </tr>\n",
       "    <tr>\n",
       "      <th>2</th>\n",
       "      <td>60.333333</td>\n",
       "      <td>62.0</td>\n",
       "      <td>59.0</td>\n",
       "      <td>3.000000</td>\n",
       "      <td>1.527525</td>\n",
       "      <td>0.050847</td>\n",
       "      <td>-0.651150</td>\n",
       "      <td>0.0</td>\n",
       "    </tr>\n",
       "    <tr>\n",
       "      <th>3</th>\n",
       "      <td>63.000000</td>\n",
       "      <td>63.0</td>\n",
       "      <td>63.0</td>\n",
       "      <td>0.000000</td>\n",
       "      <td>0.000000</td>\n",
       "      <td>0.000000</td>\n",
       "      <td>-0.651150</td>\n",
       "      <td>0.0</td>\n",
       "    </tr>\n",
       "    <tr>\n",
       "      <th>4</th>\n",
       "      <td>61.000000</td>\n",
       "      <td>62.0</td>\n",
       "      <td>60.0</td>\n",
       "      <td>2.000000</td>\n",
       "      <td>1.000000</td>\n",
       "      <td>0.033333</td>\n",
       "      <td>-0.651150</td>\n",
       "      <td>0.0</td>\n",
       "    </tr>\n",
       "    <tr>\n",
       "      <th>...</th>\n",
       "      <td>...</td>\n",
       "      <td>...</td>\n",
       "      <td>...</td>\n",
       "      <td>...</td>\n",
       "      <td>...</td>\n",
       "      <td>...</td>\n",
       "      <td>...</td>\n",
       "      <td>...</td>\n",
       "    </tr>\n",
       "    <tr>\n",
       "      <th>241</th>\n",
       "      <td>97.000000</td>\n",
       "      <td>97.0</td>\n",
       "      <td>97.0</td>\n",
       "      <td>0.000000</td>\n",
       "      <td>0.000000</td>\n",
       "      <td>0.000000</td>\n",
       "      <td>1.464936</td>\n",
       "      <td>1.0</td>\n",
       "    </tr>\n",
       "    <tr>\n",
       "      <th>242</th>\n",
       "      <td>96.500000</td>\n",
       "      <td>97.0</td>\n",
       "      <td>96.0</td>\n",
       "      <td>0.707107</td>\n",
       "      <td>1.000000</td>\n",
       "      <td>0.010417</td>\n",
       "      <td>1.464936</td>\n",
       "      <td>1.0</td>\n",
       "    </tr>\n",
       "    <tr>\n",
       "      <th>243</th>\n",
       "      <td>97.500000</td>\n",
       "      <td>98.0</td>\n",
       "      <td>97.0</td>\n",
       "      <td>0.707107</td>\n",
       "      <td>1.000000</td>\n",
       "      <td>0.010309</td>\n",
       "      <td>1.464936</td>\n",
       "      <td>1.0</td>\n",
       "    </tr>\n",
       "    <tr>\n",
       "      <th>244</th>\n",
       "      <td>78.500000</td>\n",
       "      <td>80.0</td>\n",
       "      <td>77.0</td>\n",
       "      <td>2.121320</td>\n",
       "      <td>3.000000</td>\n",
       "      <td>0.038961</td>\n",
       "      <td>1.464936</td>\n",
       "      <td>1.0</td>\n",
       "    </tr>\n",
       "    <tr>\n",
       "      <th>245</th>\n",
       "      <td>80.500000</td>\n",
       "      <td>84.0</td>\n",
       "      <td>77.0</td>\n",
       "      <td>4.949747</td>\n",
       "      <td>7.000000</td>\n",
       "      <td>0.090909</td>\n",
       "      <td>1.499936</td>\n",
       "      <td>1.0</td>\n",
       "    </tr>\n",
       "  </tbody>\n",
       "</table>\n",
       "<p>684 rows × 8 columns</p>\n",
       "</div>"
      ],
      "text/plain": [
       "           Ave   Max   Min     range       Std  Grow_rate      temp  label\n",
       "0    59.000000  60.0  58.0  2.000000  1.000000   0.034483 -0.641150    1.0\n",
       "1    59.500000  60.0  59.0  1.000000  0.707107   0.016949 -0.641150    1.0\n",
       "2    60.333333  62.0  59.0  3.000000  1.527525   0.050847 -0.651150    0.0\n",
       "3    63.000000  63.0  63.0  0.000000  0.000000   0.000000 -0.651150    0.0\n",
       "4    61.000000  62.0  60.0  2.000000  1.000000   0.033333 -0.651150    0.0\n",
       "..         ...   ...   ...       ...       ...        ...       ...    ...\n",
       "241  97.000000  97.0  97.0  0.000000  0.000000   0.000000  1.464936    1.0\n",
       "242  96.500000  97.0  96.0  0.707107  1.000000   0.010417  1.464936    1.0\n",
       "243  97.500000  98.0  97.0  0.707107  1.000000   0.010309  1.464936    1.0\n",
       "244  78.500000  80.0  77.0  2.121320  3.000000   0.038961  1.464936    1.0\n",
       "245  80.500000  84.0  77.0  4.949747  7.000000   0.090909  1.499936    1.0\n",
       "\n",
       "[684 rows x 8 columns]"
      ]
     },
     "execution_count": 2,
     "metadata": {},
     "output_type": "execute_result"
    }
   ],
   "source": [
    "import pandas as pd\n",
    "import numpy as np\n",
    "from collections import Counter\n",
    "data= pd.read_csv(r'D:\\Final Project\\Zihan\\data_final.csv')\n",
    " \n",
    "from sklearn.neighbors import NearestNeighbors\n",
    "import numpy as np\n",
    "import random \n",
    " \n",
    "class Smote:\n",
    "    \"\"\"\n",
    "    SMOTE Oversample algorithm.\n",
    "    Parameters:\n",
    "    -----------\n",
    "    k: int\n",
    "        The number of selected neighbors.\n",
    "    sampling_rate: int\n",
    "        Sampling ratio, attention sampling_rate < k.\n",
    "    newindex: int\n",
    "        The index number of the generated new sample (synthetic sample).\n",
    "    \"\"\"\n",
    "    def __init__(self, sampling_rate=5, k=5):\n",
    "        self.sampling_rate = sampling_rate\n",
    "        self.k = k\n",
    "        self.newindex = 0\n",
    " \n",
    "    def fit(self, X, y=None):\n",
    "        if y is not None:\n",
    "            negative_X = X[y == 0]\n",
    "            X = X[y == 1]\n",
    " \n",
    "        n_samples, n_features = X.shape\n",
    "        # Initializes a matrix to store synthetic samples\n",
    "        self.synthetic = np.zeros((n_samples * self.sampling_rate, n_features))\n",
    " \n",
    "        # Find the k neighbors of each sample in the positive sample set (dataset X) in dataset X \n",
    "        knn = NearestNeighbors(n_neighbors=self.k).fit(X)\n",
    "        for i in range(len(X)):\n",
    "            k_neighbors = knn.kneighbors(X[i].reshape(1, -1),return_distance=False)[0]\n",
    "            # In the positive class samples set, each sample is generated according to its k neighbors \n",
    "           \n",
    "            self.synthetic_samples(X, i, k_neighbors)\n",
    " \n",
    "        if y is not None:\n",
    "            return (np.concatenate((self.synthetic, X, negative_X), axis=0),\n",
    "                    np.concatenate(([1] * (len(self.synthetic) + len(X)), y[y == 0]), axis=0))\n",
    " \n",
    "        return np.concatenate((self.synthetic, X), axis=0)\n",
    " \n",
    "    # For each sample in the positive class samples set, sampling_rate new samples are generated respectively according to its k neighbors \n",
    "    def synthetic_samples(self, X, i, k_neighbors):\n",
    "        for j in range(self.sampling_rate):\n",
    "            #  select k_neighbors randomly \n",
    "            neighbor = np.random.choice(k_neighbors)\n",
    "            # 计算样本X[i]与刚刚选择的近邻的差\n",
    "            diff = X[neighbor] - X[i]\n",
    "            #  Generate new data sample\n",
    "            self.synthetic[self.newindex] = X[i] + random.random() * diff\n",
    "            self.newindex += 1\n",
    " \n",
    "\n",
    "import pandas as pd\n",
    "import csv\n",
    " \n",
    "\n",
    "df= pd.read_csv(r'D:\\Final Project\\Zihan\\data_final.csv')\n",
    "df['label']=np.nan\n",
    "df.loc[(df['intensity']>=2) & (df['emotion']=='Fear'), 'label'] = 1\n",
    "df.fillna(0,inplace = True)\n",
    "df = df.iloc[:,3:11]\n",
    "data = []\n",
    "for i, element in enumerate(df['label']):\n",
    "    if element == 1:\n",
    "        data.append(df.iloc[i, :])\n",
    " \n",
    "X = np.array(data)\n",
    "\n",
    "smote = Smote(sampling_rate=1, k=6)\n",
    "#data1=smote.fit(X)\n",
    "data1=smote.fit(X).tolist()\n",
    "\n",
    "df2w = pd.DataFrame(data1[0:],columns=['Ave','Max','Min','range','Std','Grow_rate','temp','label'])\n",
    "data_oversample = pd.concat([df,df2w])\n",
    "data_oversample\n",
    "#data_oversample[data_oversample['label']==0]"
   ]
  },
  {
   "cell_type": "markdown",
   "metadata": {},
   "source": [
    "## normalization\n"
   ]
  },
  {
   "cell_type": "markdown",
   "metadata": {},
   "source": [
    "### 1.Z_score"
   ]
  },
  {
   "cell_type": "code",
   "execution_count": 5,
   "metadata": {},
   "outputs": [
    {
     "data": {
      "text/plain": [
       "(684, 7)"
      ]
     },
     "execution_count": 5,
     "metadata": {},
     "output_type": "execute_result"
    }
   ],
   "source": [
    "X=np.array(data_oversample.iloc[:,0:7])\n",
    "\n",
    "Y=np.array(data_oversample['label'])\n",
    "X\n",
    "from sklearn import preprocessing\n",
    "import numpy as np\n",
    "from sklearn import preprocessing\n",
    "\n",
    "zscore = preprocessing.StandardScaler()\n",
    "# 实例化Z-Score标准化方法\n",
    "X_zscores = zscore.fit_transform(X)\n",
    "# 对数据进行标准化操作\n",
    "X_zscores.shape\n"
   ]
  },
  {
   "cell_type": "code",
   "execution_count": 9,
   "metadata": {},
   "outputs": [
    {
     "data": {
      "text/html": [
       "<div>\n",
       "<style scoped>\n",
       "    .dataframe tbody tr th:only-of-type {\n",
       "        vertical-align: middle;\n",
       "    }\n",
       "\n",
       "    .dataframe tbody tr th {\n",
       "        vertical-align: top;\n",
       "    }\n",
       "\n",
       "    .dataframe thead th {\n",
       "        text-align: right;\n",
       "    }\n",
       "</style>\n",
       "<table border=\"1\" class=\"dataframe\">\n",
       "  <thead>\n",
       "    <tr style=\"text-align: right;\">\n",
       "      <th></th>\n",
       "      <th>Ave</th>\n",
       "      <th>Max</th>\n",
       "      <th>Min</th>\n",
       "      <th>range</th>\n",
       "      <th>Std</th>\n",
       "      <th>Grow_rate</th>\n",
       "      <th>temp</th>\n",
       "      <th>label</th>\n",
       "    </tr>\n",
       "  </thead>\n",
       "  <tbody>\n",
       "    <tr>\n",
       "      <th>0</th>\n",
       "      <td>-1.148811</td>\n",
       "      <td>-1.136495</td>\n",
       "      <td>-1.158075</td>\n",
       "      <td>0.318330</td>\n",
       "      <td>-0.158889</td>\n",
       "      <td>0.429349</td>\n",
       "      <td>-0.763976</td>\n",
       "      <td>1.0</td>\n",
       "    </tr>\n",
       "    <tr>\n",
       "      <th>1</th>\n",
       "      <td>-1.115855</td>\n",
       "      <td>-1.136495</td>\n",
       "      <td>-1.092270</td>\n",
       "      <td>-0.297671</td>\n",
       "      <td>-0.363048</td>\n",
       "      <td>-0.243819</td>\n",
       "      <td>-0.763976</td>\n",
       "      <td>1.0</td>\n",
       "    </tr>\n",
       "    <tr>\n",
       "      <th>2</th>\n",
       "      <td>-1.060928</td>\n",
       "      <td>-1.004917</td>\n",
       "      <td>-1.092270</td>\n",
       "      <td>0.934332</td>\n",
       "      <td>0.208818</td>\n",
       "      <td>1.057640</td>\n",
       "      <td>-0.774208</td>\n",
       "      <td>0.0</td>\n",
       "    </tr>\n",
       "    <tr>\n",
       "      <th>3</th>\n",
       "      <td>-0.885163</td>\n",
       "      <td>-0.939127</td>\n",
       "      <td>-0.829052</td>\n",
       "      <td>-0.913673</td>\n",
       "      <td>-0.855931</td>\n",
       "      <td>-0.894549</td>\n",
       "      <td>-0.774208</td>\n",
       "      <td>0.0</td>\n",
       "    </tr>\n",
       "    <tr>\n",
       "      <th>4</th>\n",
       "      <td>-1.016987</td>\n",
       "      <td>-1.004917</td>\n",
       "      <td>-1.026466</td>\n",
       "      <td>0.318330</td>\n",
       "      <td>-0.158889</td>\n",
       "      <td>0.385219</td>\n",
       "      <td>-0.774208</td>\n",
       "      <td>0.0</td>\n",
       "    </tr>\n",
       "    <tr>\n",
       "      <th>...</th>\n",
       "      <td>...</td>\n",
       "      <td>...</td>\n",
       "      <td>...</td>\n",
       "      <td>...</td>\n",
       "      <td>...</td>\n",
       "      <td>...</td>\n",
       "      <td>...</td>\n",
       "      <td>...</td>\n",
       "    </tr>\n",
       "    <tr>\n",
       "      <th>241</th>\n",
       "      <td>1.355848</td>\n",
       "      <td>1.297706</td>\n",
       "      <td>1.408309</td>\n",
       "      <td>-0.913673</td>\n",
       "      <td>-0.855931</td>\n",
       "      <td>-0.894549</td>\n",
       "      <td>1.390953</td>\n",
       "      <td>1.0</td>\n",
       "    </tr>\n",
       "    <tr>\n",
       "      <th>242</th>\n",
       "      <td>1.322892</td>\n",
       "      <td>1.297706</td>\n",
       "      <td>1.342504</td>\n",
       "      <td>-0.478094</td>\n",
       "      <td>-0.158889</td>\n",
       "      <td>-0.494622</td>\n",
       "      <td>1.390953</td>\n",
       "      <td>1.0</td>\n",
       "    </tr>\n",
       "    <tr>\n",
       "      <th>243</th>\n",
       "      <td>1.388804</td>\n",
       "      <td>1.363496</td>\n",
       "      <td>1.408309</td>\n",
       "      <td>-0.478094</td>\n",
       "      <td>-0.158889</td>\n",
       "      <td>-0.498745</td>\n",
       "      <td>1.390953</td>\n",
       "      <td>1.0</td>\n",
       "    </tr>\n",
       "    <tr>\n",
       "      <th>244</th>\n",
       "      <td>0.136475</td>\n",
       "      <td>0.179289</td>\n",
       "      <td>0.092214</td>\n",
       "      <td>0.393064</td>\n",
       "      <td>1.235194</td>\n",
       "      <td>0.601284</td>\n",
       "      <td>1.390953</td>\n",
       "      <td>1.0</td>\n",
       "    </tr>\n",
       "    <tr>\n",
       "      <th>245</th>\n",
       "      <td>0.268299</td>\n",
       "      <td>0.442446</td>\n",
       "      <td>0.092214</td>\n",
       "      <td>2.135379</td>\n",
       "      <td>4.023361</td>\n",
       "      <td>2.595728</td>\n",
       "      <td>1.426765</td>\n",
       "      <td>1.0</td>\n",
       "    </tr>\n",
       "  </tbody>\n",
       "</table>\n",
       "<p>684 rows × 8 columns</p>\n",
       "</div>"
      ],
      "text/plain": [
       "          Ave       Max       Min     range       Std  Grow_rate      temp  \\\n",
       "0   -1.148811 -1.136495 -1.158075  0.318330 -0.158889   0.429349 -0.763976   \n",
       "1   -1.115855 -1.136495 -1.092270 -0.297671 -0.363048  -0.243819 -0.763976   \n",
       "2   -1.060928 -1.004917 -1.092270  0.934332  0.208818   1.057640 -0.774208   \n",
       "3   -0.885163 -0.939127 -0.829052 -0.913673 -0.855931  -0.894549 -0.774208   \n",
       "4   -1.016987 -1.004917 -1.026466  0.318330 -0.158889   0.385219 -0.774208   \n",
       "..        ...       ...       ...       ...       ...        ...       ...   \n",
       "241  1.355848  1.297706  1.408309 -0.913673 -0.855931  -0.894549  1.390953   \n",
       "242  1.322892  1.297706  1.342504 -0.478094 -0.158889  -0.494622  1.390953   \n",
       "243  1.388804  1.363496  1.408309 -0.478094 -0.158889  -0.498745  1.390953   \n",
       "244  0.136475  0.179289  0.092214  0.393064  1.235194   0.601284  1.390953   \n",
       "245  0.268299  0.442446  0.092214  2.135379  4.023361   2.595728  1.426765   \n",
       "\n",
       "     label  \n",
       "0      1.0  \n",
       "1      1.0  \n",
       "2      0.0  \n",
       "3      0.0  \n",
       "4      0.0  \n",
       "..     ...  \n",
       "241    1.0  \n",
       "242    1.0  \n",
       "243    1.0  \n",
       "244    1.0  \n",
       "245    1.0  \n",
       "\n",
       "[684 rows x 8 columns]"
      ]
     },
     "execution_count": 9,
     "metadata": {},
     "output_type": "execute_result"
    }
   ],
   "source": [
    "data_oversample['Ave']= X_zscores[:,0]\n",
    "data_oversample['Max']=X_zscores[:,1]\n",
    "data_oversample['Min']=X_zscores[:,2]\n",
    "data_oversample['range']=X_zscores[:,3]\n",
    "data_oversample['Std']=X_zscores[:,4]\n",
    "data_oversample['Grow_rate']=X_zscores[:,5]\n",
    "data_oversample['temp']=X_zscores[:,6]\n",
    "data_oversample"
   ]
  },
  {
   "cell_type": "markdown",
   "metadata": {},
   "source": [
    "## Feature selection"
   ]
  },
  {
   "cell_type": "markdown",
   "metadata": {},
   "source": [
    "### 1.RF feature selection"
   ]
  },
  {
   "cell_type": "code",
   "execution_count": 39,
   "metadata": {},
   "outputs": [
    {
     "name": "stdout",
     "output_type": "stream",
     "text": [
      " 1) temp                           0.317546\n",
      " 2) Ave                            0.156168\n",
      " 3) Max                            0.132507\n",
      " 4) Min                            0.122228\n",
      " 5) Grow_rate                      0.114148\n",
      " 6) Std                            0.083279\n",
      " 7) range                          0.074125\n"
     ]
    }
   ],
   "source": [
    "# RF feature selection\n",
    "from sklearn.model_selection import train_test_split\n",
    "from sklearn.ensemble import RandomForestClassifier\n",
    "\n",
    "x_train, x_test, y_train, y_test = train_test_split(X_zscores, Y, test_size = 0.3)\n",
    "feat_labels = data_oversample.columns[0:7]\n",
    "forest = RandomForestClassifier(n_estimators=10000, random_state=0, n_jobs=-1)\n",
    "forest.fit(x_train, y_train)\n",
    "\n",
    "importances = forest.feature_importances_\n",
    "indices = np.argsort(importances)[::-1]\n",
    "for f in range(x_train.shape[1]):\n",
    "    print(\"%2d) %-*s %f\" % (f + 1, 30, feat_labels[indices[f]], importances[indices[f]]))"
   ]
  },
  {
   "cell_type": "markdown",
   "metadata": {},
   "source": [
    "### plot result"
   ]
  },
  {
   "cell_type": "code",
   "execution_count": 42,
   "metadata": {},
   "outputs": [
    {
     "name": "stderr",
     "output_type": "stream",
     "text": [
      "In d:\\anaconda\\lib\\site-packages\\matplotlib\\mpl-data\\stylelib\\_classic_test.mplstyle: \n",
      "The text.latex.preview rcparam was deprecated in Matplotlib 3.3 and will be removed two minor releases later.\n",
      "In d:\\anaconda\\lib\\site-packages\\matplotlib\\mpl-data\\stylelib\\_classic_test.mplstyle: \n",
      "The mathtext.fallback_to_cm rcparam was deprecated in Matplotlib 3.3 and will be removed two minor releases later.\n",
      "In d:\\anaconda\\lib\\site-packages\\matplotlib\\mpl-data\\stylelib\\_classic_test.mplstyle: Support for setting the 'mathtext.fallback_to_cm' rcParam is deprecated since 3.3 and will be removed two minor releases later; use 'mathtext.fallback : 'cm' instead.\n",
      "In d:\\anaconda\\lib\\site-packages\\matplotlib\\mpl-data\\stylelib\\_classic_test.mplstyle: \n",
      "The validate_bool_maybe_none function was deprecated in Matplotlib 3.3 and will be removed two minor releases later.\n",
      "In d:\\anaconda\\lib\\site-packages\\matplotlib\\mpl-data\\stylelib\\_classic_test.mplstyle: \n",
      "The savefig.jpeg_quality rcparam was deprecated in Matplotlib 3.3 and will be removed two minor releases later.\n",
      "In d:\\anaconda\\lib\\site-packages\\matplotlib\\mpl-data\\stylelib\\_classic_test.mplstyle: \n",
      "The keymap.all_axes rcparam was deprecated in Matplotlib 3.3 and will be removed two minor releases later.\n",
      "In d:\\anaconda\\lib\\site-packages\\matplotlib\\mpl-data\\stylelib\\_classic_test.mplstyle: \n",
      "The animation.avconv_path rcparam was deprecated in Matplotlib 3.3 and will be removed two minor releases later.\n",
      "In d:\\anaconda\\lib\\site-packages\\matplotlib\\mpl-data\\stylelib\\_classic_test.mplstyle: \n",
      "The animation.avconv_args rcparam was deprecated in Matplotlib 3.3 and will be removed two minor releases later.\n"
     ]
    },
    {
     "data": {
      "text/plain": [
       "Text(0, 0.5, 'importance')"
      ]
     },
     "execution_count": 42,
     "metadata": {},
     "output_type": "execute_result"
    },
    {
     "data": {
      "image/png": "[encoded data removed]",
      "text/plain": [
       "<Figure size 432x288 with 1 Axes>"
      ]
     },
     "metadata": {
      "needs_background": "light"
     },
     "output_type": "display_data"
    }
   ],
   "source": [
    "import matplotlib.pyplot as plt\n",
    "x = [feat_labels[indices[0]],feat_labels[indices[1]],feat_labels[indices[2]],feat_labels[indices[3]],feat_labels[indices[4]],feat_labels[indices[5]],feat_labels[indices[6]]]\n",
    "y=[importances[indices[0]],importances[indices[1]],importances[indices[2]],importances[indices[3]],importances[indices[4]],importances[indices[5]],importances[indices[6]]]\n",
    "\n",
    "plt.bar(x,y)\n",
    "plt.xticks( rotation=330)\n",
    "#plt.hlines(0.13,-0.8,7, colors = \"c\", linestyles = \"dashed\")\n",
    "plt.title('Importance of each feature',fontsize=24)\n",
    "#设置图表标题和标题字号\n",
    "plt.tick_params(axis='both',which='major',labelsize=14)\n",
    "#设置刻度的字号\n",
    "plt.xlabel('Features',fontsize=14)\n",
    "#设置x轴标签及其字号\n",
    "plt.ylabel('importance',fontsize=14)\n",
    "#设置y轴标签及其字号"
   ]
  },
  {
   "cell_type": "markdown",
   "metadata": {},
   "source": [
    "### 2.Sequential Forward Selection (SFS)"
   ]
  },
  {
   "cell_type": "code",
   "execution_count": 31,
   "metadata": {},
   "outputs": [
    {
     "name": "stdout",
     "output_type": "stream",
     "text": [
      "\n",
      "Best 4 features (k=4):\n",
      "Ave Std Grow_rate temp\n",
      "CV Score:\n",
      "0.6362105711849957\n"
     ]
    }
   ],
   "source": [
    "from sklearn.feature_selection import SequentialFeatureSelector\n",
    "from sklearn.neighbors import KNeighborsClassifier\n",
    "from mlxtend.feature_selection import SequentialFeatureSelector as SFS\n",
    "# Sequential Forward Selection\n",
    "col = ['Ave',\t'Max',\t'Min',\t'range',\t'Std',\t'Grow_rate',\t'temp']\n",
    "knn = KNeighborsClassifier(n_neighbors=2)\n",
    "sfs = SFS(knn, \n",
    "          k_features=4, \n",
    "          forward=True, \n",
    "          floating=False, \n",
    "          scoring='accuracy',\n",
    "          cv=10,\n",
    "          n_jobs=-1)\n",
    "sfs = sfs.fit(X_zscores, Y)\n",
    "\n",
    "print('\\nBest 4 features selected by SFS:')\n",
    "print(col[sfs.k_feature_idx_[0]],col[sfs.k_feature_idx_[1]],col[sfs.k_feature_idx_[2]],col[sfs.k_feature_idx_[3]])\n",
    "print('CV Score:')\n",
    "print(sfs.k_score_)"
   ]
  },
  {
   "cell_type": "markdown",
   "metadata": {},
   "source": [
    "### 3.Sequential Backward Selection (SBS)"
   ]
  },
  {
   "cell_type": "code",
   "execution_count": 32,
   "metadata": {},
   "outputs": [
    {
     "name": "stdout",
     "output_type": "stream",
     "text": [
      "\n",
      "Best 4 features selected by SBS:\n",
      "Max Std Grow_rate temp\n",
      "CV Score:\n",
      "0.6376811594202898\n"
     ]
    }
   ],
   "source": [
    "# Sequential Backward Selection\n",
    "sbs = SFS(knn, \n",
    "          k_features=4, \n",
    "          forward=False, \n",
    "          floating=False,  \n",
    "          scoring='accuracy',\n",
    "          cv=10,\n",
    "          n_jobs=-1)\n",
    "sbs = sbs.fit(X_zscores, Y)\n",
    "\n",
    "print('\\nBest 4 features selected by SBS:')\n",
    "print(col[sbs.k_feature_idx_[0]],col[sbs.k_feature_idx_[1]],col[sbs.k_feature_idx_[2]],col[sbs.k_feature_idx_[3]])\n",
    "print('CV Score:')\n",
    "print(sbs.k_score_)"
   ]
  },
  {
   "cell_type": "markdown",
   "metadata": {},
   "source": [
    "### 4.Sequential Float Foreward Selection (SFFS)"
   ]
  },
  {
   "cell_type": "code",
   "execution_count": 33,
   "metadata": {},
   "outputs": [
    {
     "name": "stdout",
     "output_type": "stream",
     "text": [
      "\n",
      "Best 4 features selected by SFFS:\n",
      "Ave Std Grow_rate temp\n",
      "CV Score:\n",
      "0.6362105711849957\n"
     ]
    }
   ],
   "source": [
    "# Sequential Float Foreward Selection\n",
    "sffs = SFS(knn, \n",
    "          k_features=4, \n",
    "          forward=True, \n",
    "          floating=True,  \n",
    "          scoring='accuracy',\n",
    "          cv=10,\n",
    "          n_jobs=-1)\n",
    "sffs = sffs.fit(X_zscores, Y)\n",
    "\n",
    "print('\\nBest 4 features selected by SFFS:')\n",
    "print(col[sffs.k_feature_idx_[0]],col[sffs.k_feature_idx_[1]],col[sffs.k_feature_idx_[2]],col[sffs.k_feature_idx_[3]])\n",
    "print('CV Score:')\n",
    "print(sffs.k_score_)"
   ]
  },
  {
   "cell_type": "markdown",
   "metadata": {},
   "source": [
    "### 5.Exhaustive Feature Selector"
   ]
  },
  {
   "cell_type": "code",
   "execution_count": 36,
   "metadata": {},
   "outputs": [
    {
     "name": "stderr",
     "output_type": "stream",
     "text": [
      "Features: 64/64"
     ]
    },
    {
     "name": "stdout",
     "output_type": "stream",
     "text": [
      "Best accuracy score: 0.64\n",
      "Best 4 features selected by EFS: Min Std Grow_rate temp\n"
     ]
    }
   ],
   "source": [
    "from sklearn.neighbors import KNeighborsClassifier\n",
    "from sklearn.datasets import load_iris\n",
    "from mlxtend.feature_selection import ExhaustiveFeatureSelector as EFS\n",
    "#  ExhaustiveFeatureSelector\n",
    "\n",
    "knn = KNeighborsClassifier(n_neighbors=2)\n",
    "\n",
    "efs1 = EFS(knn, \n",
    "           min_features=4,\n",
    "           max_features=7,\n",
    "           scoring='accuracy',\n",
    "           print_progress=True,\n",
    "           cv=10)\n",
    "\n",
    "efs1 = efs1.fit(X_zscores, Y)\n",
    "\n",
    "print('Best accuracy score: %.2f' % efs1.best_score_)\n",
    "print('Best 4 features selected by EFS:', col[efs1.best_idx_[0]],col[efs1.best_idx_[1]],col[efs1.best_idx_[2]],col[efs1.best_idx_[3]])\n"
   ]
  },
  {
   "cell_type": "markdown",
   "metadata": {},
   "source": [
    "Summary results, 4 features (Mean, Max, Min, Temperature) are selected"
   ]
  },
  {
   "cell_type": "code",
   "execution_count": 22,
   "metadata": {},
   "outputs": [],
   "source": [
    "X_feature = X_zscores[:,[0,1,2,5,6]]"
   ]
  },
  {
   "cell_type": "markdown",
   "metadata": {},
   "source": [
    "PCA reduces feature dimension from 4D to 2D"
   ]
  },
  {
   "cell_type": "code",
   "execution_count": 23,
   "metadata": {},
   "outputs": [
    {
     "data": {
      "text/plain": [
       "array([[-2.16614839,  0.16126054],\n",
       "       [-2.0267178 , -0.49406776],\n",
       "       [-2.09556065,  0.80849405],\n",
       "       ...,\n",
       "       [ 2.76762589, -0.20962982],\n",
       "       [ 0.5979429 ,  0.53349244],\n",
       "       [ 0.56813677,  2.53965011]])"
      ]
     },
     "execution_count": 23,
     "metadata": {},
     "output_type": "execute_result"
    }
   ],
   "source": [
    "from sklearn.decomposition import PCA\n",
    "pca=PCA(n_components=2)\n",
    "pca=pca.fit(X_feature)\n",
    "X_pca=pca.transform(X_feature)\n",
    "X_pca"
   ]
  },
  {
   "cell_type": "markdown",
   "metadata": {},
   "source": [
    "## Classification "
   ]
  },
  {
   "cell_type": "markdown",
   "metadata": {},
   "source": [
    "### SVM"
   ]
  },
  {
   "cell_type": "markdown",
   "metadata": {},
   "source": [
    "1) Test kernels"
   ]
  },
  {
   "cell_type": "code",
   "execution_count": 24,
   "metadata": {},
   "outputs": [
    {
     "name": "stdout",
     "output_type": "stream",
     "text": [
      "[0.5118073316283034, 0.5410272804774083, 0.5745311167945439, 0.5191176470588236]\n"
     ]
    }
   ],
   "source": [
    "from sklearn import svm\n",
    "from sklearn.model_selection import train_test_split\n",
    "from sklearn.metrics import accuracy_score\n",
    "from sklearn.model_selection import cross_val_score\n",
    "from sklearn.model_selection import KFold\n",
    "from sklearn.metrics import confusion_matrix\n",
    "from sklearn.metrics import accuracy_score\n",
    "from sklearn.metrics import precision_score, recall_score, f1_score\n",
    "\n",
    "\n",
    "# SVM\n",
    "kfold = KFold(n_splits=10, shuffle=True,random_state=1)\n",
    "accuracy_score_Records=[]\n",
    "kernels=['linear','poly','rbf','sigmoid']\n",
    "for kernel in kernels:  \n",
    "    model = svm.SVC(kernel=kernel, degree=3,C =1)\n",
    "    scores = cross_val_score(model, X_feature, Y, cv=kfold)\n",
    "    accuracy_score_Records.append(scores.mean())\n",
    "print(accuracy_score_Records)\n",
    "\n"
   ]
  },
  {
   "cell_type": "markdown",
   "metadata": {},
   "source": [
    "Performance of SVM"
   ]
  },
  {
   "cell_type": "code",
   "execution_count": 25,
   "metadata": {},
   "outputs": [
    {
     "name": "stdout",
     "output_type": "stream",
     "text": [
      "{'fit_time': array([0.02290988, 0.03587604, 0.02592993, 0.02892208, 0.03889966,\n",
      "       0.02393508, 0.02592945, 0.02293754, 0.03291345, 0.02195835]), 'score_time': array([0.00900245, 0.00897789, 0.00698185, 0.00897765, 0.00997663,\n",
      "       0.00797987, 0.00698209, 0.00897694, 0.00797725, 0.00696373]), 'test_precision_macro': array([0.54347826, 0.59947368, 0.62842105, 0.57947368, 0.47727273,\n",
      "       0.61924119, 0.69047619, 0.70188679, 0.59090909, 0.35571055]), 'test_recall_macro': array([0.53885135, 0.58076923, 0.60356537, 0.56376689, 0.48008658,\n",
      "       0.61785714, 0.69097222, 0.63896104, 0.58791209, 0.35571055]), 'test_f1_macro': array([0.53143483, 0.5728044 , 0.56660169, 0.54901961, 0.4657688 ,\n",
      "       0.61840629, 0.69057421, 0.61363636, 0.58883721, 0.35294118])}\n",
      "0.5745311167945439\n",
      " Prec: 0.5786 Rec: 0.5658 F1: 0.5550 Acc: 0.5745\n"
     ]
    },
    {
     "name": "stderr",
     "output_type": "stream",
     "text": [
      "C:\\Users\\hp\\AppData\\Roaming\\Python\\Python37\\site-packages\\sklearn\\utils\\deprecation.py:87: FutureWarning: Function plot_confusion_matrix is deprecated; Function `plot_confusion_matrix` is deprecated in 1.0 and will be removed in 1.2. Use one of the class methods: ConfusionMatrixDisplay.from_predictions or ConfusionMatrixDisplay.from_estimator.\n",
      "  warnings.warn(msg, category=FutureWarning)\n"
     ]
    },
    {
     "data": {
      "image/png": "[encoded data removed]",
      "text/plain": [
       "<Figure size 432x288 with 2 Axes>"
      ]
     },
     "metadata": {
      "needs_background": "light"
     },
     "output_type": "display_data"
    }
   ],
   "source": [
    "from sklearn.model_selection import cross_validate\n",
    "from sklearn.metrics import recall_score\n",
    "from sklearn.svm import SVC\n",
    "from sklearn import metrics\n",
    "import matplotlib.pyplot as plt\n",
    "from sklearn.metrics import precision_recall_fscore_support\n",
    "from sklearn.model_selection import KFold\n",
    "import sklearn\n",
    "X_train,X_test,y_train,y_test=train_test_split(X_feature,Y,test_size=0.3)\n",
    "kfold = KFold(n_splits=10, shuffle=True,random_state=1)\n",
    "scoring = ['precision_macro', 'recall_macro','f1_macro']\n",
    "svm = svm.SVC(kernel='rbf', degree=3,C =1)\n",
    "svm = svm.fit(X_train,y_train)\n",
    "y_pred = svm.predict(X_test)\n",
    "scores = cross_validate(svm, X_feature,Y, scoring=scoring, cv=kfold, return_train_score=False)\n",
    "print(scores)\n",
    "sorted(scores.keys())\n",
    "recall = scores['test_recall_macro'].mean()\n",
    "precision = scores['test_precision_macro'].mean()\n",
    "f1 = scores['test_f1_macro'].mean()\n",
    "F1 = 2*recall*precision/(precision + recall)\n",
    "\n",
    "scores_val = cross_val_score(svm, X_zscores[:,[0,1,2,5,6]],Y, cv=kfold)\n",
    "print(scores_val.mean())\n",
    "\n",
    "#prec, rec, f1, _ = precision_recall_fscore_support(y_test, y_pred, average=\"binary\")\n",
    "\n",
    "print(\" Prec: %.4f Rec: %.4f F1: %.4f Acc: %.4f\"%( precision, recall, f1,scores_val.mean()))\n",
    "\n",
    "metrics.plot_confusion_matrix(svm, X_test, y_test)\n",
    "plt.show()"
   ]
  },
  {
   "cell_type": "markdown",
   "metadata": {},
   "source": [
    "Performance of SVM with PCA features"
   ]
  },
  {
   "cell_type": "code",
   "execution_count": 39,
   "metadata": {},
   "outputs": [
    {
     "name": "stdout",
     "output_type": "stream",
     "text": [
      "{'fit_time': array([0.02393484, 0.0249052 , 0.02094412, 0.02193975, 0.02393651,\n",
      "       0.02293944, 0.02094412, 0.02094197, 0.02194619, 0.02094364]), 'score_time': array([0.01099896, 0.00997329, 0.00798035, 0.00698042, 0.0069809 ,\n",
      "       0.00598335, 0.00797939, 0.00798035, 0.00897098, 0.00897527]), 'test_precision_macro': array([0.54444444, 0.60555556, 0.55779221, 0.60495283, 0.66071429,\n",
      "       0.61550152, 0.73333333, 0.78688525, 0.56788247, 0.5326087 ]), 'test_recall_macro': array([0.53040541, 0.57307692, 0.53777589, 0.57516892, 0.59350649,\n",
      "       0.60178571, 0.69444444, 0.60606061, 0.56135531, 0.52877071]), 'test_f1_macro': array([0.4998831 , 0.55483871, 0.4754025 , 0.55277778, 0.55164835,\n",
      "       0.6012198 , 0.68864469, 0.53958333, 0.56108056, 0.52080018])}\n",
      "0.5966751918158568\n",
      " Prec: 0.6210 Rec: 0.5802 F1: 0.5546 Acc: 0.5967\n"
     ]
    },
    {
     "name": "stderr",
     "output_type": "stream",
     "text": [
      "C:\\Users\\hp\\AppData\\Roaming\\Python\\Python37\\site-packages\\sklearn\\utils\\deprecation.py:87: FutureWarning: Function plot_confusion_matrix is deprecated; Function `plot_confusion_matrix` is deprecated in 1.0 and will be removed in 1.2. Use one of the class methods: ConfusionMatrixDisplay.from_predictions or ConfusionMatrixDisplay.from_estimator.\n",
      "  warnings.warn(msg, category=FutureWarning)\n"
     ]
    },
    {
     "data": {
      "image/png": "[encoded data removed]",
      "text/plain": [
       "<Figure size 432x288 with 2 Axes>"
      ]
     },
     "metadata": {
      "needs_background": "light"
     },
     "output_type": "display_data"
    }
   ],
   "source": [
    "from sklearn.model_selection import cross_validate\n",
    "from sklearn.metrics import recall_score\n",
    "from sklearn.svm import SVC\n",
    "from sklearn import metrics\n",
    "import matplotlib.pyplot as plt\n",
    "from sklearn.metrics import precision_recall_fscore_support\n",
    "from sklearn.model_selection import KFold\n",
    "import sklearn\n",
    "X_train,X_test,y_train,y_test=train_test_split(X_pca,Y,test_size=0.3)\n",
    "kfold = KFold(n_splits=10, shuffle=True,random_state=1)\n",
    "scoring = ['precision_macro', 'recall_macro','f1_macro']\n",
    "svm = svm.SVC(kernel='rbf', degree=3,C =1)\n",
    "svm = svm.fit(X_train,y_train)\n",
    "y_pred = svm.predict(X_test)\n",
    "scores = cross_validate(svm, X_pca,Y, scoring=scoring, cv=kfold, return_train_score=False)\n",
    "print(scores)\n",
    "sorted(scores.keys())\n",
    "recall = scores['test_recall_macro'].mean()\n",
    "precision = scores['test_precision_macro'].mean()\n",
    "f1 = scores['test_f1_macro'].mean()\n",
    "F1 = 2*recall*precision/(precision + recall)\n",
    "\n",
    "scores_val = cross_val_score(svm, X_pca,Y, cv=kfold)\n",
    "print(scores_val.mean())\n",
    "\n",
    "#prec, rec, f1, _ = precision_recall_fscore_support(y_test, y_pred, average=\"binary\")\n",
    "\n",
    "print(\" Prec: %.4f Rec: %.4f F1: %.4f Acc: %.4f\"%( precision, recall, f1,scores_val.mean()))\n",
    "\n",
    "metrics.plot_confusion_matrix(svm, X_test, y_test)\n",
    "plt.show()"
   ]
  },
  {
   "cell_type": "markdown",
   "metadata": {},
   "source": [
    "### KNN"
   ]
  },
  {
   "cell_type": "markdown",
   "metadata": {},
   "source": [
    "1. Select best n_neighbors"
   ]
  },
  {
   "cell_type": "code",
   "execution_count": null,
   "metadata": {},
   "outputs": [],
   "source": [
    "from sklearn import neighbors, datasets\n",
    "result =[]\n",
    "X_train,X_test,y_train,y_test=train_test_split(X_feature,Y,test_size=0.3)\n",
    "#for i in (2,3,4,5,6,7,8,9,10):\n",
    "for i in range(2,21,1):\n",
    "    clf_kNN = neighbors.KNeighborsClassifier(n_neighbors=i, weights='distance')\n",
    "    clf_kNN.fit(X_train, y_train)\n",
    "    y_pred=clf_kNN.predict(X_test)\n",
    "    kfold = KFold(n_splits=10, shuffle=True,random_state=1)\n",
    "    scores = cross_val_score(clf_kNN, X_feature, Y, cv=kfold)\n",
    "    #scores = accuracy_score(y_test, y_pred)\n",
    "    result.append([i,scores.mean()])\n",
    "result1 = sorted(result,key=lambda x:x[1],reverse= 1)\n",
    "# print(scores)\n",
    "for i in result1:\n",
    "    print (i)\n",
    "# print(f'kNN accuracy_score:{metrics.accuracy_score(y_test, y_pred)}')"
   ]
  },
  {
   "cell_type": "markdown",
   "metadata": {},
   "source": [
    "Performance of KNN"
   ]
  },
  {
   "cell_type": "code",
   "execution_count": 26,
   "metadata": {},
   "outputs": [
    {
     "name": "stdout",
     "output_type": "stream",
     "text": [
      "{'fit_time': array([0.00195193, 0.00199842, 0.0009973 , 0.00099683, 0.0009973 ,\n",
      "       0.00100088, 0.00199485, 0.00102258, 0.00099778, 0.00099683]), 'score_time': array([0.00401115, 0.0019908 , 0.00652695, 0.00199461, 0.00209665,\n",
      "       0.00395298, 0.00500011, 0.00199533, 0.00419784, 0.00199485]), 'test_precision_macro': array([0.71080139, 0.69047619, 0.79827586, 0.80095819, 0.80113636,\n",
      "       0.81785714, 0.75474255, 0.8378926 , 0.79719964, 0.69117647]), 'test_recall_macro': array([0.70439189, 0.68461538, 0.79371817, 0.79180743, 0.77532468,\n",
      "       0.81785714, 0.74479167, 0.78874459, 0.80128205, 0.69267655])}\n",
      " Prec: 0.7701 Rec: 0.7595 F1: 0.7648 Acc: 0.7633\n"
     ]
    },
    {
     "name": "stderr",
     "output_type": "stream",
     "text": [
      "C:\\Users\\hp\\AppData\\Roaming\\Python\\Python37\\site-packages\\sklearn\\utils\\deprecation.py:87: FutureWarning: Function plot_confusion_matrix is deprecated; Function `plot_confusion_matrix` is deprecated in 1.0 and will be removed in 1.2. Use one of the class methods: ConfusionMatrixDisplay.from_predictions or ConfusionMatrixDisplay.from_estimator.\n",
      "  warnings.warn(msg, category=FutureWarning)\n"
     ]
    },
    {
     "data": {
      "image/png": "[encoded data removed]",
      "text/plain": [
       "<Figure size 432x288 with 2 Axes>"
      ]
     },
     "metadata": {
      "needs_background": "light"
     },
     "output_type": "display_data"
    }
   ],
   "source": [
    "from sklearn import neighbors, datasets\n",
    "from sklearn import metrics\n",
    "X_train,X_test,y_train,y_test=train_test_split(X_feature,Y,test_size=0.3)\n",
    "KNN = neighbors.KNeighborsClassifier(2, weights='distance')\n",
    "scoring = ['precision_macro', 'recall_macro']\n",
    "clf = KNN.fit(X_train, y_train)\n",
    "y_pred = clf.predict(X_test)\n",
    "kfold = KFold(n_splits=10, shuffle=True,random_state=1)\n",
    "scores = cross_validate(KNN, X_feature,Y, scoring=scoring, cv=kfold, return_train_score=False)\n",
    "\n",
    "print(scores)\n",
    "sorted(scores.keys())\n",
    "recall = scores['test_recall_macro'].mean()\n",
    "precision = scores['test_precision_macro'].mean()\n",
    "F1 = 2*recall*precision/(precision + recall)\n",
    "\n",
    "scores_val = cross_val_score(KNN, X_feature,Y, cv=kfold)\n",
    "\n",
    "print(\" Prec: %.4f Rec: %.4f F1: %.4f Acc: %.4f\"%( precision, recall, F1,scores_val.mean()))\n",
    "metrics.plot_confusion_matrix(KNN, X_test, y_test)\n",
    "plt.show()"
   ]
  },
  {
   "cell_type": "markdown",
   "metadata": {},
   "source": [
    "Performance of KNN with PCA features"
   ]
  },
  {
   "cell_type": "code",
   "execution_count": 27,
   "metadata": {},
   "outputs": [
    {
     "name": "stdout",
     "output_type": "stream",
     "text": [
      "0.7252983802216539\n",
      "{'fit_time': array([0.00102496, 0.0010004 , 0.00102544, 0.00099707, 0.00102544,\n",
      "       0.00199628, 0.00099611, 0.0009892 , 0.00397038, 0.00099778]), 'score_time': array([0.00199437, 0.0029614 , 0.00299215, 0.00396132, 0.00296402,\n",
      "       0.00401592, 0.0039618 , 0.0030098 , 0.0029912 , 0.00398922]), 'test_precision_macro': array([0.62051282, 0.69008621, 0.72727273, 0.76363636, 0.81209302,\n",
      "       0.72710623, 0.72332016, 0.87534884, 0.71969697, 0.63235294]), 'test_recall_macro': array([0.61908784, 0.68846154, 0.72920204, 0.74493243, 0.79047619,\n",
      "       0.72142857, 0.69618056, 0.84935065, 0.71245421, 0.63339146])}\n",
      " Prec: 0.7291 Rec: 0.7185 F1: 0.7238 Acc: 0.7253\n"
     ]
    },
    {
     "name": "stderr",
     "output_type": "stream",
     "text": [
      "C:\\Users\\hp\\AppData\\Roaming\\Python\\Python37\\site-packages\\sklearn\\utils\\deprecation.py:87: FutureWarning: Function plot_confusion_matrix is deprecated; Function `plot_confusion_matrix` is deprecated in 1.0 and will be removed in 1.2. Use one of the class methods: ConfusionMatrixDisplay.from_predictions or ConfusionMatrixDisplay.from_estimator.\n",
      "  warnings.warn(msg, category=FutureWarning)\n"
     ]
    },
    {
     "data": {
      "image/png": "[encoded data removed]",
      "text/plain": [
       "<Figure size 432x288 with 2 Axes>"
      ]
     },
     "metadata": {
      "needs_background": "light"
     },
     "output_type": "display_data"
    }
   ],
   "source": [
    "from sklearn import neighbors, datasets\n",
    "from sklearn import metrics\n",
    "X_train,X_test,y_train,y_test=train_test_split(X_pca,Y,test_size=0.3)\n",
    "KNN = neighbors.KNeighborsClassifier(2, weights='distance')\n",
    "scoring = ['precision_macro', 'recall_macro']\n",
    "clf = KNN.fit(X_train, y_train)\n",
    "\n",
    "y_pred = clf.predict(X_test)\n",
    "\n",
    "kfold = KFold(n_splits=10, shuffle=True,random_state=1)\n",
    "cv_cross = cross_validate(KNN, X_pca, Y, cv=kfold)\n",
    "print(cv_cross['test_score'].mean())\n",
    "\n",
    "scores = cross_validate(KNN, X_pca,Y, scoring=scoring, cv=kfold, return_train_score=False)\n",
    "\n",
    "print(scores)\n",
    "sorted(scores.keys())\n",
    "recall = scores['test_recall_macro'].mean()\n",
    "precision = scores['test_precision_macro'].mean()\n",
    "F1 = 2*recall*precision/(precision + recall)\n",
    "\n",
    "scores_val = cross_val_score(KNN, X_pca,Y, cv=kfold)\n",
    "print(\" Prec: %.4f Rec: %.4f F1: %.4f Acc: %.4f\"%( precision, recall, F1,scores_val.mean()))\n",
    "metrics.plot_confusion_matrix(KNN, X_test, y_test)\n",
    "plt.show()"
   ]
  },
  {
   "cell_type": "markdown",
   "metadata": {},
   "source": [
    "### RF"
   ]
  },
  {
   "cell_type": "markdown",
   "metadata": {},
   "source": [
    "1. Select best n_estimators"
   ]
  },
  {
   "cell_type": "code",
   "execution_count": null,
   "metadata": {},
   "outputs": [],
   "source": [
    "### select parameter in Random Forest roughly\n",
    "\n",
    "scorel = []\n",
    "kfold = KFold(n_splits=10, shuffle=True,random_state=1)\n",
    "for i in range(1,501,10): # Iteratively build RF models containing 0-300 decision trees for comparison\n",
    "\n",
    " rfc = RandomForestClassifier(n_estimators=i,n_jobs=-1,random_state=1)\n",
    " score = cross_val_score(rfc,X_feature,Y,cv=kfold).mean()\n",
    " scorel.append(score)\n",
    "print(f'{max(scorel)},the best n_estimators is {(scorel.index(max(scorel))*10)+1}')\n",
    "# end=time.time()\n",
    "# print('Running time: %s Seconds'%(end-start))\n",
    "plt.figure(figsize=[20,5])\n",
    "plt.plot(range(1,501,10),scorel)\n",
    "plt.xlabel('n_estimators')\n",
    "plt.ylabel('Score')\n",
    "plt.show()\n"
   ]
  },
  {
   "cell_type": "code",
   "execution_count": null,
   "metadata": {},
   "outputs": [],
   "source": [
    "# select specific value of best n_estimators\n",
    "\n",
    "scorel = []\n",
    "kfold = KFold(n_splits=10, shuffle=True,random_state=1)\n",
    "for i in range(21,39):\n",
    " rfc = RandomForestClassifier(n_estimators=i,n_jobs=-1,random_state=1)\n",
    " score = cross_val_score(rfc,X_feature,Y,cv=kfold).mean()\n",
    " scorel.append(score)\n",
    "print(max(scorel),([*range(1,21)][scorel.index(max(scorel))]))\n",
    "plt.figure(figsize=[20,5])\n",
    "plt.plot(range(21,39),scorel)\n",
    "plt.xlabel('n_estimators')\n",
    "plt.ylabel('Score')\n",
    "plt.show()"
   ]
  },
  {
   "cell_type": "code",
   "execution_count": 30,
   "metadata": {},
   "outputs": [
    {
     "data": {
      "text/plain": [
       "(684, 5)"
      ]
     },
     "execution_count": 30,
     "metadata": {},
     "output_type": "execute_result"
    }
   ],
   "source": [
    "X_feature.shape"
   ]
  },
  {
   "cell_type": "markdown",
   "metadata": {},
   "source": [
    "Performance of RF"
   ]
  },
  {
   "cell_type": "code",
   "execution_count": 36,
   "metadata": {},
   "outputs": [
    {
     "name": "stdout",
     "output_type": "stream",
     "text": [
      "{'fit_time': array([0.1436162 , 0.09974122, 0.11768603, 0.09075785, 0.08277965,\n",
      "       0.0757978 , 0.06481457, 0.07878947, 0.06881618, 0.07280588]), 'score_time': array([0.006006  , 0.01195884, 0.01296544, 0.00797892, 0.0069797 ,\n",
      "       0.00797915, 0.00698209, 0.00897527, 0.0079782 , 0.01097035]), 'test_precision_macro': array([0.82636364, 0.80905172, 0.80434783, 0.86851521, 0.8378926 ,\n",
      "       0.77534884, 0.78030303, 0.82916667, 0.76697674, 0.76363636]), 'test_recall_macro': array([0.80320946, 0.80641026, 0.77334465, 0.84797297, 0.78874459,\n",
      "       0.76428571, 0.75694444, 0.77359307, 0.76282051, 0.76547515])}\n",
      " Prec: 0.8062 Rec: 0.7843 F1: 0.7951 Acc: 0.7894\n"
     ]
    },
    {
     "name": "stderr",
     "output_type": "stream",
     "text": [
      "C:\\Users\\hp\\AppData\\Roaming\\Python\\Python37\\site-packages\\sklearn\\utils\\deprecation.py:87: FutureWarning: Function plot_confusion_matrix is deprecated; Function `plot_confusion_matrix` is deprecated in 1.0 and will be removed in 1.2. Use one of the class methods: ConfusionMatrixDisplay.from_predictions or ConfusionMatrixDisplay.from_estimator.\n",
      "  warnings.warn(msg, category=FutureWarning)\n"
     ]
    },
    {
     "data": {
      "image/png": "[encoded data removed]",
      "text/plain": [
       "<Figure size 432x288 with 2 Axes>"
      ]
     },
     "metadata": {
      "needs_background": "light"
     },
     "output_type": "display_data"
    }
   ],
   "source": [
    "from sklearn.ensemble import RandomForestClassifier\n",
    "\n",
    "X_train,X_test,y_train,y_test=train_test_split(X_feature,Y,test_size=0.3, random_state=0)\n",
    "RF = RandomForestClassifier(n_estimators=32, random_state=1)\n",
    "RF.fit(X_train, y_train)\n",
    "y_pred = RF.predict(X_test)\n",
    "#print(accuracy_score(y_test, y_pred))\n",
    "#print(clf.predict(X_test))\n",
    "kfold = KFold(n_splits=10, shuffle=True,random_state=1)\n",
    "scoring = ['precision_macro', 'recall_macro']\n",
    "\n",
    "#scores = cross_val_score(RF, X_feature, Y, cv=kfold)\n",
    "y_pred = RF.predict(X_test)\n",
    "scores = cross_validate(RF, X_feature,Y, scoring=scoring, cv=kfold, return_train_score=False)\n",
    "print(scores)\n",
    "sorted(scores.keys())\n",
    "recall = scores['test_recall_macro'].mean()\n",
    "precision = scores['test_precision_macro'].mean()\n",
    "F1 = 2*recall*precision/(precision + recall)\n",
    "\n",
    "scores_val = cross_val_score(RF, X_feature,Y, cv=kfold)\n",
    "\n",
    "\n",
    "print(\" Prec: %.4f Rec: %.4f F1: %.4f Acc: %.4f\"%( precision, recall, F1,scores_val.mean()))\n",
    "\n",
    "metrics.plot_confusion_matrix(RF, X_test, y_test)\n",
    "plt.show()\n"
   ]
  },
  {
   "cell_type": "markdown",
   "metadata": {},
   "source": [
    "Performance of RF with PCA features"
   ]
  },
  {
   "cell_type": "code",
   "execution_count": 37,
   "metadata": {},
   "outputs": [
    {
     "name": "stdout",
     "output_type": "stream",
     "text": [
      "{'fit_time': array([0.06581211, 0.06682324, 0.06482673, 0.06479311, 0.06585932,\n",
      "       0.06379557, 0.0618341 , 0.06379461, 0.06386447, 0.06480122]), 'score_time': array([0.00699139, 0.00601053, 0.00798368, 0.00598407, 0.004987  ,\n",
      "       0.00701499, 0.00897789, 0.00498652, 0.01093602, 0.00697994]), 'test_precision_macro': array([0.69482759, 0.73747764, 0.73217317, 0.82636364, 0.74604743,\n",
      "       0.79356061, 0.69791667, 0.89772727, 0.81628788, 0.66176471]), 'test_recall_macro': array([0.69087838, 0.72692308, 0.73217317, 0.80320946, 0.71558442,\n",
      "       0.77678571, 0.66493056, 0.86363636, 0.80586081, 0.663034  ])}\n",
      " Prec: 0.7604 Rec: 0.7443 F1: 0.7523 Acc: 0.7515\n"
     ]
    },
    {
     "name": "stderr",
     "output_type": "stream",
     "text": [
      "C:\\Users\\hp\\AppData\\Roaming\\Python\\Python37\\site-packages\\sklearn\\utils\\deprecation.py:87: FutureWarning: Function plot_confusion_matrix is deprecated; Function `plot_confusion_matrix` is deprecated in 1.0 and will be removed in 1.2. Use one of the class methods: ConfusionMatrixDisplay.from_predictions or ConfusionMatrixDisplay.from_estimator.\n",
      "  warnings.warn(msg, category=FutureWarning)\n"
     ]
    },
    {
     "data": {
      "image/png": "[encoded data removed]",
      "text/plain": [
       "<Figure size 432x288 with 2 Axes>"
      ]
     },
     "metadata": {
      "needs_background": "light"
     },
     "output_type": "display_data"
    }
   ],
   "source": [
    "from sklearn.ensemble import RandomForestClassifier\n",
    "\n",
    "X_train,X_test,y_train,y_test=train_test_split(X_pca,Y,test_size=0.3, random_state=0)\n",
    "RF = RandomForestClassifier(n_estimators=32, random_state=1)\n",
    "RF.fit(X_train, y_train)\n",
    "y_pred = RF.predict(X_test)\n",
    "#print(accuracy_score(y_test, y_pred))\n",
    "#print(clf.predict(X_test))\n",
    "kfold = KFold(n_splits=10, shuffle=True,random_state=1)\n",
    "scoring = ['precision_macro', 'recall_macro']\n",
    "\n",
    "scores = cross_val_score(RF, X_pca, Y, cv=kfold)\n",
    "y_pred = RF.predict(X_test)\n",
    "scores = cross_validate(RF, X_pca,Y, scoring=scoring, cv=kfold, return_train_score=False)\n",
    "print(scores)\n",
    "sorted(scores.keys())\n",
    "recall = scores['test_recall_macro'].mean()\n",
    "precision = scores['test_precision_macro'].mean()\n",
    "F1 = 2*recall*precision/(precision + recall)\n",
    "\n",
    "scores_val = cross_val_score(RF, X_pca,Y, cv=kfold)\n",
    "\n",
    "\n",
    "print(\" Prec: %.4f Rec: %.4f F1: %.4f Acc: %.4f\"%( precision, recall, F1,scores_val.mean()))\n",
    "\n",
    "metrics.plot_confusion_matrix(RF, X_test, y_test)\n",
    "plt.show()"
   ]
  },
  {
   "cell_type": "markdown",
   "metadata": {},
   "source": [
    "### Compare decision tree and Random Forest"
   ]
  },
  {
   "cell_type": "code",
   "execution_count": 12,
   "metadata": {},
   "outputs": [
    {
     "data": {
      "image/png": "[encoded data removed]",
      "text/plain": [
       "<Figure size 432x288 with 1 Axes>"
      ]
     },
     "metadata": {
      "needs_background": "light"
     },
     "output_type": "display_data"
    }
   ],
   "source": [
    "from sklearn.tree import DecisionTreeClassifier\n",
    "from sklearn.ensemble import RandomForestClassifier\n",
    "rfc_l = []\n",
    "clf_l = []\n",
    "for i in range(10):\n",
    " rfc = RandomForestClassifier()\n",
    " rfc_s = cross_val_score(rfc,X_feature,Y,cv=10).mean()\n",
    " rfc_l.append(rfc_s)\n",
    " clf = DecisionTreeClassifier()\n",
    " clf_s = cross_val_score(clf,X_feature,Y,cv=10).mean()\n",
    " clf_l.append(clf_s)\n",
    "plt.plot(range(1,11),rfc_l,label = \"Random Forest\")\n",
    "plt.plot(range(1,11),clf_l,label = \"Decision Tree\")\n",
    "plt.xlabel('CV') # set x axis label for subplot 6\n",
    "plt.ylabel('Score')\n",
    "plt.legend()\n",
    "plt.show()"
   ]
  },
  {
   "cell_type": "markdown",
   "metadata": {},
   "source": [
    "### linear model"
   ]
  },
  {
   "cell_type": "markdown",
   "metadata": {},
   "source": [
    "Performance of Linear model"
   ]
  },
  {
   "cell_type": "code",
   "execution_count": 38,
   "metadata": {},
   "outputs": [
    {
     "name": "stdout",
     "output_type": "stream",
     "text": [
      "[[35 61]\n",
      " [35 75]]\n",
      "0.5089727195225916\n",
      "0.06391982176094524\n"
     ]
    },
    {
     "data": {
      "text/plain": [
       "{'fit_time': array([0.26229787, 0.00099826, 0.00099659, 0.00099826, 0.00099683,\n",
       "        0.00598478, 0.        , 0.00099802, 0.00099683, 0.00099778]),\n",
       " 'score_time': array([0.       , 0.       , 0.       , 0.       , 0.       , 0.       ,\n",
       "        0.0009973, 0.       , 0.       , 0.       ]),\n",
       " 'test_linear_score': array([0.52173913, 0.49275362, 0.4057971 , 0.47826087, 0.51470588,\n",
       "        0.63235294, 0.5       , 0.52941176, 0.58823529, 0.42647059])}"
      ]
     },
     "execution_count": 38,
     "metadata": {},
     "output_type": "execute_result"
    }
   ],
   "source": [
    "import pandas as pd\n",
    "import numpy as np\n",
    "from sklearn.preprocessing import StandardScaler\n",
    "from sklearn.model_selection import ShuffleSplit\n",
    "from sklearn.model_selection import train_test_split\n",
    "from sklearn.linear_model import LinearRegression\n",
    "\n",
    "from sklearn.model_selection import KFold\n",
    "from sklearn.metrics import make_scorer\n",
    "from sklearn.model_selection import cross_validate\n",
    "X_train,X_test,y_train,y_test=train_test_split(X_feature,Y,test_size=0.3, random_state=0)\n",
    "def linear_score(true_value, predict):\n",
    "    predict[predict < 0.5] = 0\n",
    "    predict[predict > 0.5] = 1\n",
    "    return predict[predict == true_value].size / predict.size\n",
    "\n",
    "liner_model = LinearRegression()\n",
    "\n",
    "scoring = {\n",
    "    'linear_score': make_scorer(linear_score, greater_is_better=True)\n",
    "}\n",
    "kfold = KFold(n_splits=10, shuffle=True,random_state=1)\n",
    "cv_cross = cross_validate(liner_model, X_feature, Y, cv=kfold, scoring=scoring)\n",
    "liner_model.fit(X_train,y_train)\n",
    "y_pred = liner_model.predict(X_test)\n",
    "a = len(y_pred)\n",
    "y_pre = []\n",
    "for n in range(0,a,1):\n",
    "    if y_pred[n] > 0.5:\n",
    "        y_pre.append(1) \n",
    "    else:\n",
    "        y_pre.append(0)\n",
    "\n",
    "print(confusion_matrix( y_test, y_pre))\n",
    "\n",
    "\n",
    "print(cv_cross['test_linear_score'].mean()) # Average of Cross-validation\n",
    "print(cv_cross['test_linear_score'].std()) #  Standard deviation of Cross-validation\n",
    "cv_cross\n",
    "\n"
   ]
  },
  {
   "cell_type": "markdown",
   "metadata": {},
   "source": [
    "Performance of Linear model with PCA features"
   ]
  },
  {
   "cell_type": "code",
   "execution_count": 60,
   "metadata": {},
   "outputs": [
    {
     "name": "stdout",
     "output_type": "stream",
     "text": [
      "[[43 53]\n",
      " [32 78]]\n",
      "0.5614876385336742\n",
      "0.035779007327939885\n"
     ]
    },
    {
     "data": {
      "text/plain": [
       "{'fit_time': array([0.00099754, 0.00099683, 0.00099778, 0.        , 0.0009985 ,\n",
       "        0.00099683, 0.00398827, 0.00099778, 0.0009973 , 0.        ]),\n",
       " 'score_time': array([0., 0., 0., 0., 0., 0., 0., 0., 0., 0.]),\n",
       " 'test_linear_score': array([0.53623188, 0.60869565, 0.53623188, 0.50724638, 0.57352941,\n",
       "        0.63235294, 0.52941176, 0.57352941, 0.55882353, 0.55882353])}"
      ]
     },
     "execution_count": 60,
     "metadata": {},
     "output_type": "execute_result"
    }
   ],
   "source": [
    "import pandas as pd\n",
    "import numpy as np\n",
    "from sklearn.preprocessing import StandardScaler\n",
    "from sklearn.model_selection import ShuffleSplit\n",
    "from sklearn.model_selection import train_test_split\n",
    "from sklearn.linear_model import LinearRegression\n",
    "\n",
    "from sklearn.model_selection import KFold\n",
    "from sklearn.metrics import make_scorer\n",
    "from sklearn.model_selection import cross_validate\n",
    "X_train,X_test,y_train,y_test=train_test_split(X_pca,Y,test_size=0.3, random_state=0)\n",
    "def linear_score(true_value, predict):\n",
    "    predict[predict < 0.5] = 0\n",
    "    predict[predict > 0.5] = 1\n",
    "    return predict[predict == true_value].size / predict.size\n",
    "\n",
    "liner_model = LinearRegression()\n",
    "\n",
    "scoring = {\n",
    "    'linear_score': make_scorer(linear_score, greater_is_better=True)\n",
    "}\n",
    "kfold = KFold(n_splits=10, shuffle=True,random_state=1)\n",
    "cv_cross = cross_validate(liner_model, X_pca, Y, cv=kfold, scoring=scoring)\n",
    "liner_model.fit(X_train,y_train)\n",
    "y_pred = liner_model.predict(X_test)\n",
    "a = len(y_pred)\n",
    "y_pre = []\n",
    "for n in range(0,a,1):\n",
    "    if y_pred[n] > 0.5:\n",
    "        y_pre.append(1) \n",
    "    else:\n",
    "        y_pre.append(0)\n",
    "\n",
    "print(confusion_matrix( y_test, y_pre))\n",
    "\n",
    "\n",
    "print(cv_cross['test_linear_score'].mean()) # Average of Cross-validation\n",
    "print(cv_cross['test_linear_score'].std()) # Standard deviation of Cross-validation\n",
    "cv_cross"
   ]
  },
  {
   "cell_type": "markdown",
   "metadata": {},
   "source": [
    "### Naive Bayes"
   ]
  },
  {
   "cell_type": "markdown",
   "metadata": {},
   "source": [
    "Performance of Naive Bayes"
   ]
  },
  {
   "cell_type": "code",
   "execution_count": 39,
   "metadata": {},
   "outputs": [
    {
     "name": "stdout",
     "output_type": "stream",
     "text": [
      "0.5584825234441603\n",
      "{'fit_time': array([0.00199533, 0.00099802, 0.00099444, 0.        , 0.0009985 ,\n",
      "       0.0009973 , 0.00099587, 0.00198984, 0.00101805, 0.0039959 ]), 'score_time': array([0.00199413, 0.00399017, 0.00199366, 0.00199628, 0.00199223,\n",
      "       0.00299382, 0.00399423, 0.00199509, 0.00197363, 0.00298572]), 'test_precision_macro': array([0.53571429, 0.60086207, 0.59008621, 0.51103565, 0.55930736,\n",
      "       0.52829355, 0.59275362, 0.6622807 , 0.58093023, 0.51255814]), 'test_recall_macro': array([0.53589527, 0.6       , 0.58870968, 0.51097973, 0.55930736,\n",
      "       0.52857143, 0.58333333, 0.66017316, 0.57967033, 0.51176983])}\n",
      " Prec: 0.5674 Rec: 0.5658 F1: 0.5666 Acc: 0.5585\n"
     ]
    },
    {
     "name": "stderr",
     "output_type": "stream",
     "text": [
      "C:\\Users\\hp\\AppData\\Roaming\\Python\\Python37\\site-packages\\sklearn\\utils\\deprecation.py:87: FutureWarning: Function plot_confusion_matrix is deprecated; Function `plot_confusion_matrix` is deprecated in 1.0 and will be removed in 1.2. Use one of the class methods: ConfusionMatrixDisplay.from_predictions or ConfusionMatrixDisplay.from_estimator.\n",
      "  warnings.warn(msg, category=FutureWarning)\n"
     ]
    },
    {
     "data": {
      "image/png": "[encoded data removed]",
      "text/plain": [
       "<Figure size 432x288 with 2 Axes>"
      ]
     },
     "metadata": {
      "needs_background": "light"
     },
     "output_type": "display_data"
    }
   ],
   "source": [
    "\n",
    "from sklearn.naive_bayes import GaussianNB\n",
    "\n",
    "NB = GaussianNB(var_smoothing=1e-8)\n",
    "NB.fit(X_train, y_train)\n",
    "kfold = KFold(n_splits=10, shuffle=True,random_state=1)\n",
    "cv_cross = cross_validate(NB, X_feature, Y, cv=kfold)\n",
    "print(cv_cross['test_score'].mean())\n",
    "\n",
    "\n",
    "scoring = ['precision_macro', 'recall_macro']\n",
    "#scores = cross_val_score(NB, X_zscores[:,[1,2,3,6]], Y, cv=10)\n",
    "y_pred = NB.predict(X_test)\n",
    "scores = cross_validate(NB, X_feature,Y, scoring=scoring, cv=kfold, return_train_score=False)\n",
    "print(scores)\n",
    "sorted(scores.keys())\n",
    "recall = scores['test_recall_macro'].mean()\n",
    "precision = scores['test_precision_macro'].mean()\n",
    "F1 = 2*recall*precision/(precision + recall)\n",
    "\n",
    "scores_val = cross_val_score(NB, X_feature,Y, cv=kfold)\n",
    "\n",
    "\n",
    "print(\" Prec: %.4f Rec: %.4f F1: %.4f Acc: %.4f\"%( precision, recall, F1,scores_val.mean()))\n",
    "\n",
    "\n",
    "metrics.plot_confusion_matrix(NB, X_test, y_test)\n",
    "plt.show()"
   ]
  },
  {
   "cell_type": "markdown",
   "metadata": {},
   "source": [
    "Performance of Naive Bayes with PCA features"
   ]
  },
  {
   "cell_type": "code",
   "execution_count": 63,
   "metadata": {},
   "outputs": [
    {
     "name": "stdout",
     "output_type": "stream",
     "text": [
      "0.5600170502983801\n",
      "{'fit_time': array([0.0009973 , 0.00099826, 0.        , 0.00099683, 0.00102472,\n",
      "       0.00099611, 0.00099802, 0.00199342, 0.00099683, 0.00099754]), 'score_time': array([0.00199485, 0.00307059, 0.00199389, 0.00299287, 0.00199461,\n",
      "       0.00199485, 0.00396276, 0.00199509, 0.00099683, 0.00199437]), 'test_precision_macro': array([0.54497354, 0.58194444, 0.62061404, 0.50464527, 0.57575758,\n",
      "       0.57894737, 0.51923077, 0.70725995, 0.55178571, 0.59912281]), 'test_recall_macro': array([0.54307432, 0.57564103, 0.57003396, 0.50464527, 0.56926407,\n",
      "       0.58035714, 0.51388889, 0.57662338, 0.55311355, 0.59851787])}\n",
      " Prec: 0.5784 Rec: 0.5585 F1: 0.5683 Acc: 0.5600\n"
     ]
    },
    {
     "name": "stderr",
     "output_type": "stream",
     "text": [
      "C:\\Users\\hp\\AppData\\Roaming\\Python\\Python37\\site-packages\\sklearn\\utils\\deprecation.py:87: FutureWarning: Function plot_confusion_matrix is deprecated; Function `plot_confusion_matrix` is deprecated in 1.0 and will be removed in 1.2. Use one of the class methods: ConfusionMatrixDisplay.from_predictions or ConfusionMatrixDisplay.from_estimator.\n",
      "  warnings.warn(msg, category=FutureWarning)\n"
     ]
    },
    {
     "data": {
      "image/png": "[encoded data removed]",
      "text/plain": [
       "<Figure size 432x288 with 2 Axes>"
      ]
     },
     "metadata": {
      "needs_background": "light"
     },
     "output_type": "display_data"
    }
   ],
   "source": [
    "from sklearn.naive_bayes import GaussianNB\n",
    "\n",
    "NB = GaussianNB(var_smoothing=1e-8)\n",
    "NB.fit(X_train, y_train)\n",
    "kfold = KFold(n_splits=10, shuffle=True,random_state=1)\n",
    "cv_cross = cross_validate(NB, X_pca, Y, cv=kfold)\n",
    "print(cv_cross['test_score'].mean())\n",
    "\n",
    "\n",
    "scoring = ['precision_macro', 'recall_macro']\n",
    "#scores = cross_val_score(NB, X_zscores[:,[1,2,3,6]], Y, cv=10)\n",
    "y_pred = NB.predict(X_test)\n",
    "scores = cross_validate(NB, X_pca,Y, scoring=scoring, cv=kfold, return_train_score=False)\n",
    "print(scores)\n",
    "sorted(scores.keys())\n",
    "recall = scores['test_recall_macro'].mean()\n",
    "precision = scores['test_precision_macro'].mean()\n",
    "F1 = 2*recall*precision/(precision + recall)\n",
    "\n",
    "scores_val = cross_val_score(NB, X_pca,Y, cv=kfold)\n",
    "\n",
    "\n",
    "print(\" Prec: %.4f Rec: %.4f F1: %.4f Acc: %.4f\"%( precision, recall, F1,scores_val.mean()))\n",
    "\n",
    "\n",
    "metrics.plot_confusion_matrix(NB, X_test, y_test)\n",
    "plt.show()"
   ]
  },
  {
   "cell_type": "markdown",
   "metadata": {},
   "source": [
    "### GBDT"
   ]
  },
  {
   "cell_type": "markdown",
   "metadata": {},
   "source": [
    "Performance of GBDT"
   ]
  },
  {
   "cell_type": "code",
   "execution_count": 40,
   "metadata": {},
   "outputs": [
    {
     "name": "stdout",
     "output_type": "stream",
     "text": [
      "训练集精确度:  0.9916317991631799\n",
      "测试集精确度:  0.7766990291262136\n",
      "Acc:  0.7849957374254048\n",
      "{'fit_time': array([5.2180016 , 5.23090601, 4.91430378, 5.12180424, 4.9825511 ,\n",
      "       4.98666525, 4.85505056, 4.84903407, 4.97666717, 4.8749969 ]), 'score_time': array([0.01393533, 0.01099801, 0.01204109, 0.0119679 , 0.01296496,\n",
      "       0.01097083, 0.01193666, 0.00997424, 0.00897408, 0.00994182]), 'test_precision_macro': array([0.85430743, 0.84259259, 0.78789199, 0.86025145, 0.8378926 ,\n",
      "       0.83860465, 0.76785714, 0.75748792, 0.86811594, 0.69912281]), 'test_recall_macro': array([0.85430743, 0.83205128, 0.78056027, 0.81461149, 0.78874459,\n",
      "       0.825     , 0.76041667, 0.73073593, 0.8489011 , 0.69790759])}\n",
      " Prec: 0.8114 Rec: 0.7933 F1: 0.8023 Acc: 0.7967\n"
     ]
    },
    {
     "name": "stderr",
     "output_type": "stream",
     "text": [
      "C:\\Users\\hp\\AppData\\Roaming\\Python\\Python37\\site-packages\\sklearn\\utils\\deprecation.py:87: FutureWarning: Function plot_confusion_matrix is deprecated; Function `plot_confusion_matrix` is deprecated in 1.0 and will be removed in 1.2. Use one of the class methods: ConfusionMatrixDisplay.from_predictions or ConfusionMatrixDisplay.from_estimator.\n",
      "  warnings.warn(msg, category=FutureWarning)\n"
     ]
    },
    {
     "data": {
      "image/png": "[encoded data removed]",
      "text/plain": [
       "<Figure size 432x288 with 2 Axes>"
      ]
     },
     "metadata": {
      "needs_background": "light"
     },
     "output_type": "display_data"
    }
   ],
   "source": [
    "\n",
    "from sklearn.ensemble import GradientBoostingClassifier\n",
    "from sklearn.model_selection import GridSearchCV\n",
    "from sklearn.metrics import accuracy_score\n",
    "from time import time\n",
    "import numpy as np\n",
    "from sklearn.model_selection import cross_validate\n",
    "from sklearn import metrics\n",
    "X_train,X_test,y_train,y_test=train_test_split(X_feature,Y,test_size=0.3)\n",
    "idx=[]\n",
    "m, n = np.shape(X_train)\n",
    "idx = list(range(m))\n",
    "np.random.shuffle(idx)\n",
    "\n",
    "GBDT = GradientBoostingClassifier(max_features=4, max_depth=50, min_samples_split=8, min_samples_leaf=3,\n",
    "    \n",
    "                            n_estimators=1200, learning_rate=0.05, subsample=0.95)\n",
    "# fit training set\n",
    "GBDT.fit(X_train, y_train)\n",
    "\n",
    "train_Y_hat = GBDT.predict(X_train)\n",
    "print (\"训练集精确度: \", accuracy_score(y_train, train_Y_hat))   \n",
    "# predict testing set\n",
    "test_Y_hat = GBDT.predict(X_test)\n",
    "print (\"测试集精确度: \", accuracy_score(y_test, test_Y_hat))\n",
    "\n",
    "kfold = KFold(n_splits=10, shuffle=True,random_state=1)\n",
    "cv_cross = cross_validate(GBDT, X_feature, Y, cv=kfold)\n",
    "print(\"Acc: \",cv_cross['test_score'].mean())\n",
    "\n",
    "scoring = ['precision_macro', 'recall_macro']\n",
    "\n",
    "y_pred = GBDT.predict(X_test)\n",
    "scores = cross_validate(GBDT, X_feature,Y, scoring=scoring, cv=kfold, return_train_score=False)\n",
    "print(scores)\n",
    "sorted(scores.keys())\n",
    "recall = scores['test_recall_macro'].mean()\n",
    "precision = scores['test_precision_macro'].mean()\n",
    "\n",
    "F1 = 2*recall*precision/(precision + recall)\n",
    "\n",
    "scores_val = cross_val_score(GBDT, X_feature,Y, cv=kfold)\n",
    "\n",
    "\n",
    "print(\" Prec: %.4f Rec: %.4f F1: %.4f Acc: %.4f\"%( precision, recall, F1,scores_val.mean()))\n",
    "\n",
    "metrics.plot_confusion_matrix(GBDT, X_test, y_test)\n",
    "plt.show()\n",
    "\n"
   ]
  },
  {
   "cell_type": "markdown",
   "metadata": {},
   "source": [
    "Performance of GBDT with PCA features"
   ]
  },
  {
   "cell_type": "code",
   "execution_count": 66,
   "metadata": {},
   "outputs": [
    {
     "name": "stdout",
     "output_type": "stream",
     "text": [
      "训练集精确度:  0.9937238493723849\n",
      "测试集精确度:  0.7330097087378641\n",
      "Acc:  0.7807118499573742\n",
      "{'fit_time': array([4.68446589, 4.82110596, 4.71342826, 4.87403631, 4.67353034,\n",
      "       4.64155912, 4.68848753, 4.57579637, 4.83905673, 4.78375459]), 'score_time': array([0.01097608, 0.01196837, 0.01193428, 0.01000619, 0.01094198,\n",
      "       0.00898361, 0.0119338 , 0.01096463, 0.01097465, 0.01097107]), 'test_precision_macro': array([0.7974359 , 0.755     , 0.76788909, 0.8137931 , 0.78046512,\n",
      "       0.77232538, 0.79821429, 0.8655303 , 0.85573123, 0.83534884]), 'test_recall_macro': array([0.79391892, 0.73974359, 0.75424448, 0.80743243, 0.76103896,\n",
      "       0.775     , 0.78993056, 0.83419913, 0.82967033, 0.81429817])}\n",
      " Prec: 0.8042 Rec: 0.7899 F1: 0.7970 Acc: 0.7881\n"
     ]
    },
    {
     "name": "stderr",
     "output_type": "stream",
     "text": [
      "C:\\Users\\hp\\AppData\\Roaming\\Python\\Python37\\site-packages\\sklearn\\utils\\deprecation.py:87: FutureWarning: Function plot_confusion_matrix is deprecated; Function `plot_confusion_matrix` is deprecated in 1.0 and will be removed in 1.2. Use one of the class methods: ConfusionMatrixDisplay.from_predictions or ConfusionMatrixDisplay.from_estimator.\n",
      "  warnings.warn(msg, category=FutureWarning)\n"
     ]
    },
    {
     "data": {
      "image/png": "[encoded data removed]",
      "text/plain": [
       "<Figure size 432x288 with 2 Axes>"
      ]
     },
     "metadata": {
      "needs_background": "light"
     },
     "output_type": "display_data"
    }
   ],
   "source": [
    "from sklearn.ensemble import GradientBoostingClassifier\n",
    "from sklearn.model_selection import GridSearchCV\n",
    "from sklearn.metrics import accuracy_score\n",
    "from time import time\n",
    "import numpy as np\n",
    "from sklearn.model_selection import cross_validate\n",
    "idx=[]\n",
    "m, n = np.shape(X_train)\n",
    "idx = list(range(m))\n",
    "np.random.shuffle(idx)\n",
    "X_train,X_test,y_train,y_test=train_test_split(X_pca,Y,test_size=0.3)\n",
    "GBDT = GradientBoostingClassifier(max_features=2, max_depth=50, min_samples_split=8, min_samples_leaf=3,\n",
    "    \n",
    "                            n_estimators=1200, learning_rate=0.05, subsample=0.95)\n",
    "# fit training set\n",
    "GBDT.fit(X_train, y_train)\n",
    "\n",
    "train_Y_hat = GBDT.predict(X_train)\n",
    "print (\"Accuracy in training set: \", accuracy_score(y_train, train_Y_hat))   \n",
    "# Predict testing set\n",
    "test_Y_hat = GBDT.predict(X_test)\n",
    "print (\"Accuracy in testing set: \", accuracy_score(y_test, test_Y_hat))\n",
    "\n",
    "kfold = KFold(n_splits=10, shuffle=True,random_state=1)\n",
    "cv_cross = cross_validate(GBDT, X_pca, Y, cv=kfold)\n",
    "print(\"Acc: \",cv_cross['test_score'].mean())\n",
    "\n",
    "scoring = ['precision_macro', 'recall_macro']\n",
    "\n",
    "y_pred = GBDT.predict(X_test)\n",
    "scores = cross_validate(GBDT, X_pca,Y, scoring=scoring, cv=kfold, return_train_score=False)\n",
    "print(scores)\n",
    "sorted(scores.keys())\n",
    "recall = scores['test_recall_macro'].mean()\n",
    "precision = scores['test_precision_macro'].mean()\n",
    "\n",
    "F1 = 2*recall*precision/(precision + recall)\n",
    "\n",
    "scores_val = cross_val_score(GBDT, X_pca,Y, cv=kfold)\n",
    "\n",
    "\n",
    "print(\" Prec: %.4f Rec: %.4f F1: %.4f Acc: %.4f\"%( precision, recall, F1,scores_val.mean()))\n",
    "\n",
    "metrics.plot_confusion_matrix(GBDT, X_test, y_test)\n",
    "plt.show()\n"
   ]
  },
  {
   "cell_type": "markdown",
   "metadata": {},
   "source": [
    "### AdaBoost"
   ]
  },
  {
   "cell_type": "markdown",
   "metadata": {},
   "source": [
    "Performance of AdaBoost"
   ]
  },
  {
   "cell_type": "code",
   "execution_count": 41,
   "metadata": {},
   "outputs": [
    {
     "name": "stdout",
     "output_type": "stream",
     "text": [
      "0.6813512361466325\n",
      "{'fit_time': array([0.18392491, 0.22567749, 0.21074605, 0.18764353, 0.18881035,\n",
      "       0.22736454, 0.20543742, 0.18952012, 0.19946671, 0.18749857]), 'score_time': array([0.02007079, 0.02194118, 0.01997328, 0.02091217, 0.02093768,\n",
      "       0.01994729, 0.02292466, 0.02291179, 0.01994681, 0.02194118]), 'test_precision_macro': array([0.6206446 , 0.70972222, 0.65608466, 0.71212121, 0.67654752,\n",
      "       0.71447254, 0.66277056, 0.74254743, 0.74675325, 0.58701299]), 'test_recall_macro': array([0.61697635, 0.69358974, 0.65025467, 0.71283784, 0.67532468,\n",
      "       0.71964286, 0.66319444, 0.73246753, 0.76098901, 0.58761988])}\n",
      " Prec: 0.6829 Rec: 0.6813 F1: 0.6821 Acc: 0.6814\n"
     ]
    },
    {
     "name": "stderr",
     "output_type": "stream",
     "text": [
      "C:\\Users\\hp\\AppData\\Roaming\\Python\\Python37\\site-packages\\sklearn\\utils\\deprecation.py:87: FutureWarning: Function plot_confusion_matrix is deprecated; Function `plot_confusion_matrix` is deprecated in 1.0 and will be removed in 1.2. Use one of the class methods: ConfusionMatrixDisplay.from_predictions or ConfusionMatrixDisplay.from_estimator.\n",
      "  warnings.warn(msg, category=FutureWarning)\n"
     ]
    },
    {
     "data": {
      "image/png": "[encoded data removed]",
      "text/plain": [
       "<Figure size 432x288 with 2 Axes>"
      ]
     },
     "metadata": {
      "needs_background": "light"
     },
     "output_type": "display_data"
    }
   ],
   "source": [
    "from sklearn.ensemble import AdaBoostClassifier\n",
    "from sklearn.datasets import make_classification\n",
    " \n",
    "Ada = AdaBoostClassifier(algorithm='SAMME.R', base_estimator=None,\n",
    "        learning_rate=1.0, n_estimators=100, random_state=0)\n",
    "Ada.fit(X_train, y_train)\n",
    "kfold = KFold(n_splits=10, shuffle=True,random_state=1)\n",
    "cv_cross = cross_validate(Ada, X_feature, Y, cv=kfold)\n",
    "print(cv_cross['test_score'].mean() )\n",
    "\n",
    "\n",
    "scoring = ['precision_macro', 'recall_macro']\n",
    "\n",
    "y_pred = Ada.predict(X_test)\n",
    "scores = cross_validate(Ada, X_feature,Y, scoring=scoring, cv=kfold, return_train_score=False)\n",
    "print(scores)\n",
    "sorted(scores.keys())\n",
    "recall = scores['test_recall_macro'].mean()\n",
    "precision = scores['test_precision_macro'].mean()\n",
    "\n",
    "F1 = 2*recall*precision/(precision + recall)\n",
    "\n",
    "scores_val = cross_val_score(Ada, X_feature,Y, cv=kfold)\n",
    "\n",
    "\n",
    "print(\" Prec: %.4f Rec: %.4f F1: %.4f Acc: %.4f\"%( precision, recall, F1,scores_val.mean()))\n",
    "\n",
    "\n",
    "metrics.plot_confusion_matrix(Ada, X_test, y_test)\n",
    "plt.show()\n"
   ]
  },
  {
   "cell_type": "markdown",
   "metadata": {},
   "source": [
    "Performance of AdaBoost with PCA features"
   ]
  },
  {
   "cell_type": "code",
   "execution_count": 42,
   "metadata": {},
   "outputs": [
    {
     "name": "stdout",
     "output_type": "stream",
     "text": [
      "0.6374467178175618\n",
      "{'fit_time': array([0.1824789 , 0.2193799 , 0.1944797 , 0.17791033, 0.19764185,\n",
      "       0.19263434, 0.18883467, 0.19956517, 0.19372034, 0.19677925]), 'score_time': array([0.02297163, 0.0209446 , 0.0191009 , 0.02290964, 0.02191448,\n",
      "       0.01991367, 0.02606583, 0.02094412, 0.02293921, 0.02712393]), 'test_precision_macro': array([0.54409091, 0.72363636, 0.68650794, 0.59078712, 0.55906977,\n",
      "       0.54912281, 0.67534722, 0.80113636, 0.64046512, 0.59912281]), 'test_recall_macro': array([0.54096284, 0.71025641, 0.6795416 , 0.58572635, 0.55497835,\n",
      "       0.55      , 0.67534722, 0.77532468, 0.63827839, 0.59851787])}\n",
      " Prec: 0.6369 Rec: 0.6309 F1: 0.6339 Acc: 0.6374\n"
     ]
    },
    {
     "name": "stderr",
     "output_type": "stream",
     "text": [
      "C:\\Users\\hp\\AppData\\Roaming\\Python\\Python37\\site-packages\\sklearn\\utils\\deprecation.py:87: FutureWarning: Function plot_confusion_matrix is deprecated; Function `plot_confusion_matrix` is deprecated in 1.0 and will be removed in 1.2. Use one of the class methods: ConfusionMatrixDisplay.from_predictions or ConfusionMatrixDisplay.from_estimator.\n",
      "  warnings.warn(msg, category=FutureWarning)\n"
     ]
    },
    {
     "data": {
      "image/png": "[encoded data removed]",
      "text/plain": [
       "<Figure size 432x288 with 2 Axes>"
      ]
     },
     "metadata": {
      "needs_background": "light"
     },
     "output_type": "display_data"
    }
   ],
   "source": [
    "from sklearn.ensemble import AdaBoostClassifier\n",
    "from sklearn.datasets import make_classification\n",
    "\n",
    "#clf = AdaBoostClassifier(n_estimators=100, random_state=0)\n",
    " \n",
    "Ada = AdaBoostClassifier(algorithm='SAMME.R', base_estimator=None,\n",
    "        learning_rate=1.0, n_estimators=100, random_state=0)\n",
    "Ada.fit(X_train, y_train)\n",
    "kfold = KFold(n_splits=10, shuffle=True,random_state=1)\n",
    "cv_cross = cross_validate(Ada, X_pca, Y, cv=kfold)\n",
    "print(cv_cross['test_score'].mean() )\n",
    "\n",
    "\n",
    "scoring = ['precision_macro', 'recall_macro']\n",
    "#scores = cross_val_score(NB, X_zscores[:,[1,2,3,6]], Y, cv=10)\n",
    "y_pred = Ada.predict(X_test)\n",
    "scores = cross_validate(Ada, X_pca,Y, scoring=scoring, cv=kfold, return_train_score=False)\n",
    "print(scores)\n",
    "sorted(scores.keys())\n",
    "recall = scores['test_recall_macro'].mean()\n",
    "precision = scores['test_precision_macro'].mean()\n",
    "\n",
    "F1 = 2*recall*precision/(precision + recall)\n",
    "\n",
    "scores_val = cross_val_score(Ada, X_pca,Y, cv=kfold)\n",
    "\n",
    "\n",
    "print(\" Prec: %.4f Rec: %.4f F1: %.4f Acc: %.4f\"%( precision, recall, F1,scores_val.mean()))\n",
    "\n",
    "\n",
    "metrics.plot_confusion_matrix(Ada, X_test, y_test)\n",
    "plt.show()"
   ]
  }
 ],
 "metadata": {
  "kernelspec": {
   "display_name": "Python 3.7.4 ('base')",
   "language": "python",
   "name": "python3"
  },
  "language_info": {
   "codemirror_mode": {
    "name": "ipython",
    "version": 3
   },
   "file_extension": ".py",
   "mimetype": "text/x-python",
   "name": "python",
   "nbconvert_exporter": "python",
   "pygments_lexer": "ipython3",
   "version": "3.7.4"
  },
  "orig_nbformat": 4,
  "vscode": {
   "interpreter": {
    "hash": "5179d32cf6ec497baf3f8a3ef987cc77c5d2dc691fdde20a56316522f61a7323"
   }
  }
 },
 "nbformat": 4,
 "nbformat_minor": 2
}
